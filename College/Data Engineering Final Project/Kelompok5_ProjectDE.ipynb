{
 "cells": [
  {
   "cell_type": "markdown",
   "source": "# Project Data Engineering\n\nData Engineering - TIF A\n\nKelompok 5:\n- Aldi Fianda Putra - 195150201111034\n- Riski Darmawan - 195150200111039\n- Hasyir Daffa Ibrahim - 195150207111039",
   "metadata": {
    "tags": [],
    "cell_id": "00000-3ddf0b0e-17d7-43de-b536-9e060a8dfbd5",
    "deepnote_cell_type": "markdown"
   }
  },
  {
   "cell_type": "markdown",
   "source": "**Deskripsi Project**\n\n1. Ambil Datasource (Data Primer / Data Sekunder)\n2. Lakukan Proses ETL\n> 1. Sesuaikan schema\n> 2. Lakukan data pre-processing\n> 3. Gunakan Great expectation untuk data validation\n> 4. Masukkan ke DB (mysql, sqlite3, postgre, mongodb)\n> 5. Ambil subsetdata dari DB (Datamart)\n3. Lakukan Proses Exploratory Data Analysis\n4. Lakukan proses Machine Learning\n5. (Optinoal: Nilai +) Buat Dashboard (Hasil Exploratory Data Analysis, Modeling)\n6. (Optional: Nilai +) Buat Scheduling\n7. Evaluasi Hasil\n\n.\n\nPersiapkan:\n- PPT\n- Demo\n- Source code\n- Video\n> - Konfigurasi (Kafka, API, DB, docker, kubernetes, dll)\n> - Demo implementasi",
   "metadata": {
    "tags": [],
    "cell_id": "00001-e4bff0bc-554a-42c8-8cb2-3ed91e649e8f",
    "deepnote_cell_type": "markdown"
   }
  },
  {
   "cell_type": "markdown",
   "source": "## **Topic: Windows 11**\n",
   "metadata": {
    "tags": [],
    "cell_id": "00002-f1f64538-95f8-4e93-9acf-4faef75c9e75",
    "deepnote_cell_type": "markdown"
   }
  },
  {
   "cell_type": "markdown",
   "source": "# 1. Installasi dan Konfigurasi Airflow",
   "metadata": {
    "tags": [],
    "cell_id": "00003-5e4e0bd2-68d5-4d5a-9a8d-739c59b3519a",
    "deepnote_cell_type": "markdown"
   }
  },
  {
   "cell_type": "markdown",
   "source": "Berikut ini adalah prosedur installasi airflow sebelum masuk ke dalam pembahasan scheduling data:\n1. Pastikan menggunakan environment linux seperti Ubuntu, Arch dan lain-lain. Pada percobaan ini kami menggunakan linux dengan distro Manjaro yang merupakan turunan Arch. \n2. Install python-pip terlebih dahulu dengan menggunakan perintah sudo apt-get install python-pip, sedangkan pada perangkat kami karena menggunakan Arch-based maka menggunakan perintah sudo pacman -S python-pip ataupun yay -S python-pip\n3. Install depedensi yang dibutuhkan airflow seperti libmysqlclient-dev, libssl-dev, libkrb5-dev ataupun depedensi lainnya mengikuti error yang akan muncul nantinya.\n4. Buat database baru dengan menggunakan perintah airflow db init.\n5. Jalankan perintah airflow webserver -p 8080, kemudian jalankan juga airflow scheduler namun pada terminal yang berbeda\n6. Buat sebuah akun untuk airflow dengan urutan airflow users create [-h] -e EMAIL -f FIRSTNAME -l LASTNAME [-p PASSWORD] -r                  ROLE [--use-random-password] -u USERNAME,\n7. Buka web browser pada alamat localhost:8080, kemudian login dan apabila diperoleh tampilan UI Airflow berarti siap digunakan.\n8. Karena pada percobaan ini melakukan stream data, maka jalankan kafka dan zookeeper terlebih dahulu melalui direktori kafka",
   "metadata": {
    "tags": [],
    "cell_id": "00004-d7106133-a87a-441d-882c-1f243daa13ea",
    "deepnote_cell_type": "markdown"
   }
  },
  {
   "cell_type": "markdown",
   "source": "## Nomor 2 sampai dengan 5 berikut tidak dijalankan melalui notebook",
   "metadata": {
    "tags": [],
    "cell_id": "00005-b8e3240f-f62b-4079-bec9-94353e78cb51",
    "deepnote_cell_type": "markdown"
   }
  },
  {
   "cell_type": "markdown",
   "source": "# 2. Streaming Data",
   "metadata": {
    "tags": [],
    "cell_id": "00006-ee59edbd-7142-4e44-be22-40fee3ad76ba",
    "deepnote_cell_type": "markdown"
   }
  },
  {
   "cell_type": "code",
   "metadata": {
    "tags": [],
    "deepnote_to_be_reexecuted": false,
    "source_hash": "56ccaa44",
    "execution_start": 1637675911427,
    "execution_millis": 0,
    "cell_id": "00007-832680a9-0a84-4ce3-98e0-aba989f93492",
    "deepnote_cell_type": "code"
   },
   "source": "# import library\nimport tweepy\nfrom kafka import KafkaProducer\nfrom datetime import datetime, timedelta\nimport csv\nimport pandas as pd\n\nconsumer_key = \"Gg0FYnVBi1a9MeVR4cd7iBIHH\"\nconsumer_secret = \"i3whWfXsPi5uNjAXwskSQKmZobfgezo4SmK4R8hfL6WkWZGfdM\"\naccess_token = \"818938632782299136-VM0HUdQzBHdWsaWkXIfStkzSoKzRa0L\"\naccess_token_secret = \"IcKhsxWvCnLVqp2iigRw4tdNVqMsxFNWkGt5kXfQKhcfH\"\n\n# setup autentikasi\nauth = tweepy.OAuthHandler(consumer_key, consumer_secret)\nauth.set_access_token(access_token, access_token_secret)\n\n# instansiasi API\napi = tweepy.API(auth, wait_on_rate_limit=True)\n\n# menyesuaikan waktu dengan waktu lokal (GMT +7 / UTC +7)\ndef normalize_time(time):\n    mytime = datetime.strptime(time, \"%Y-%m-%d %H:%M:%S\")\n    mytime += timedelta(hours=7)\n    return (mytime.strftime(\"%Y-%m-%d %H:%M:%S\"))\n\n# instansiasi Kafka Producer\nproducer = KafkaProducer(bootstrap_servers=['localhost:9092'], api_version=(0, 10, 1))\n\n# inisialisasi topik, kata kunci, serta batas maksimum query dan tweet\ntopic_name = 'windows_11'\nsearch_key = \"windows 11\"\nmaxId = -1\nmaxTweets = 3000\ntweetCount = 0\ntweetsPerQuery = 200\n\n# deklarasi file csv\ncsvFile = open(search_key+\".csv\", \"a+\", newline=\"\", encoding=\"utf-8\")\ncsvWriter = csv.writer(csvFile)\n\n# deklarasi list\ntweet_id = []\ntweet_username = []\ntweet_text = []\n\n# perulangan untuk mendapatkan tweet dengna API Twitter hingga limit yang ditentukan\nwhile tweetCount < maxTweets:\n    # mengambil data tweet pertama kali\n    if maxId <= 0:\n        # newTweets = api.search_tweets(q=search_key, lang=\"en\", count=tweetCount, max_id=maxId)\n        newTweets = api.search_tweets(q=search_key, lang=\"id\", count=tweetCount)\n    # mengambil data tweet kedua dan seterusnya\n    newTweets = api.search_tweets(q=search_key, lang=\"id\", count=tweetsPerQuery)\n\n    # mengambil atribut tertentu dari suatu tweet\n    for i in newTweets:\n        record = str(i.user.id_str)\n        record += ';'\n        record = str(i.user.name)\n        record += ';'\n        # record += str(normalize_timestamp(str(i.created_at)))\n        # record += ';'\n        # record += str(i.full_text.encode('utf-8'))\n        record += str(i.text.encode('utf-8'))\n        record += ';'\n        print(str.encode(record))\n        producer.send(topic_name, str.encode(record))\n\n        tweet_id.append(str(i.user.id_str))\n        tweet_username.append(str(i.user.name))\n        tweet_text.append(str(i.text.encode('utf-8')))\n        tweets = [str(i.user.id_str), str(i.user.name), str(i.text.encode('utf-8'))]\n        csvWriter.writerow(tweets)\n\n    # menambah jumlah TweetCount dan MaxId\n    tweetCount += len(newTweets)\n    maxId = newTweets[-1].id\n\n# mencoba mencetak\ndictTweets = {\"id\":tweet_id, \"username\":tweet_username, \"text\":tweet_text}\ndf = pd.DataFrame(dictTweets)\n# df\n",
   "execution_count": null,
   "outputs": []
  },
  {
   "cell_type": "markdown",
   "source": "# 3. Extract Data",
   "metadata": {
    "tags": [],
    "cell_id": "00008-34201d15-c9f1-423a-a550-9b91bb3f7c18",
    "deepnote_cell_type": "markdown"
   }
  },
  {
   "cell_type": "code",
   "metadata": {
    "tags": [],
    "deepnote_to_be_reexecuted": false,
    "source_hash": "3a3fab86",
    "execution_start": 1637675926623,
    "execution_millis": 112,
    "output_cleared": true,
    "cell_id": "00009-99c6e478-0d66-451a-a3ba-498f5f2740cc",
    "deepnote_cell_type": "code"
   },
   "source": "import pandas as pd\nkolom = ['id', 'username', 'tweet']\n#Direktori dapat disesuaikan dengan tempat path tempat file python, csv dan db disimpan\ndf_windows = pd.read_csv('/home/stndb01/Documents/Data_Engineering/Proyek/windows 11.csv', names = kolom)\ndf_windows\ndf_windows.duplicated().value_counts()\n\ndf_windows.to_csv('/home/stndb01/Documents/Data_Engineering/Proyek/windows_11_e.csv')\n",
   "execution_count": null,
   "outputs": []
  },
  {
   "cell_type": "markdown",
   "source": "# 4. Transform",
   "metadata": {
    "tags": [],
    "cell_id": "00010-b3120524-0275-41c0-9cd4-fdf4e3f35601",
    "deepnote_cell_type": "markdown"
   }
  },
  {
   "cell_type": "code",
   "metadata": {
    "tags": [],
    "cell_id": "00011-94de84e3-ae82-43f7-bea5-206063231431",
    "deepnote_cell_type": "code"
   },
   "source": "import pandas as pd\nkolom = ['id', 'username', 'tweet']\ndf_windows = pd.read_csv('/home/stndb01/Documents/Data_Engineering/Proyek/windows_11_e.csv', names = kolom)\n#df_windows.duplicated().value_counts()\n\n\ndf_windows.drop_duplicates(inplace=True, ignore_index=True)\ndf_windows\ndf_windows.to_csv('/home/stndb01/Documents/Data_Engineering/Proyek/windows_11_t.csv')",
   "execution_count": null,
   "outputs": []
  },
  {
   "cell_type": "markdown",
   "source": "# 5. Load",
   "metadata": {
    "tags": [],
    "cell_id": "00012-867117e3-eb60-4a73-953b-681a1228372a",
    "deepnote_cell_type": "markdown"
   }
  },
  {
   "cell_type": "code",
   "metadata": {
    "tags": [],
    "cell_id": "00013-3be650f5-d886-4e38-b3ed-bf727e6f83e7",
    "deepnote_cell_type": "code"
   },
   "source": "import sqlite3 as s3\nimport pandas as pd\nimport os\n\n# membuat koneksi ke database\nconn = s3.connect('/home/stndb01/Documents/Data_Engineering/Proyek/windows11_data.db')\n\n# Object cursor untuk menjalankan perintah SQL\ncur = conn.cursor()\n\n# load dataframe ke datamart\ndf_windows = pd.read_csv('/home/stndb01/Documents/Data_Engineering/Proyek/windows_11_t.csv')\ndf_windows.to_sql('windows11_table',conn,if_exists='replace',index=False)\nos.remove(\"/home/stndb01/Documents/Data_Engineering/Proyek/windows_11_e.csv\")\nos.remove(\"/home/stndb01/Documents/Data_Engineering/Proyek/windows_11_t.csv\")",
   "execution_count": null,
   "outputs": []
  },
  {
   "cell_type": "code",
   "metadata": {
    "tags": [],
    "cell_id": "00014-edf72e66-9bf3-42b0-9a80-412de1d5649e",
    "deepnote_cell_type": "code"
   },
   "source": "query = '''select * from windows11_table'''\npd.read_sql(query, conn)",
   "execution_count": null,
   "outputs": []
  },
  {
   "cell_type": "markdown",
   "source": "# 6. Scheduling",
   "metadata": {
    "tags": [],
    "cell_id": "00015-055ff309-9976-4b59-86a7-2caa0710049e",
    "deepnote_cell_type": "markdown"
   }
  },
  {
   "cell_type": "code",
   "metadata": {
    "tags": [],
    "cell_id": "00016-aa624948-4c29-45f3-997a-a7e596e29502",
    "deepnote_cell_type": "code"
   },
   "source": "from datetime import timedelta\nfrom airflow.operators.bash import BashOperator\nfrom airflow.utils.dates import days_ago\nfrom airflow import DAG\n\ndefault_args = {\n    'owner': 'admin',\n    'depends_on_past': False,\n    'email': ['airflow@example.com'],\n    'email_on_failure': False,\n    'email_on_retry': False,\n    'retries': 1,\n}\nwith DAG(\n    'Proyek_Akhir',\n    default_args=default_args,\n    description='Scheduling untuk task proyek akhir',\n    schedule_interval=timedelta(days=1),\n    start_date=days_ago(2),\n    tags=['proyek'],\n) as dag:\n\n    stream        = BashOperator(\n                    task_id='Stream_data_twitter',\n                    bash_command='python /home/stndb01/Documents/Data_Engineering/Proyek/stream.py'\n                    #bash_command='python stream.py',\n                    )\n\n    extract        = BashOperator(\n                    task_id='Extract_data_twitter',\n                    bash_command='python /home/stndb01/Documents/Data_Engineering/Proyek/extract.py'\n                    #bash_command='python extract.py',\n                    )\n\n    transform        = BashOperator(\n                    task_id='Transform_data_twitter',\n                    bash_command='python /home/stndb01/Documents/Data_Engineering/Proyek/transform.py'\n                    #bash_command='python transform.py',\n                    )\n\n    load        = BashOperator(\n                    task_id='Load_data_twitter',\n                    bash_command='python /home/stndb01/Documents/Data_Engineering/Proyek/load.py'\n                    #bash_command='python load.py',\n                    )\n\n    stream.set_downstream(extract)\n    extract.set_downstream(transform)\n    transform.set_downstream(load)\n\n\n",
   "execution_count": null,
   "outputs": []
  },
  {
   "cell_type": "code",
   "metadata": {
    "tags": [],
    "deepnote_to_be_reexecuted": false,
    "source_hash": "d8d96f82",
    "execution_start": 1639232533710,
    "execution_millis": 425,
    "output_cleared": false,
    "cell_id": "00017-3dcabfcb-b609-44c7-879a-c812f8f0f05c",
    "deepnote_cell_type": "code"
   },
   "source": "import sqlite3 as s3\nimport pandas as pd\nimport os\n\n# membuat koneksi ke database\nconn = s3.connect('windows11_data.db')\n\n# Object cursor untuk menjalankan perintah SQL\ncur = conn.cursor()\nquery = '''select * from windows11_table limit 10'''\npd.read_sql(query, conn)",
   "execution_count": 1,
   "outputs": [
    {
     "output_type": "execute_result",
     "execution_count": 1,
     "data": {
      "application/vnd.deepnote.dataframe.v2+json": {
       "row_count": 10,
       "column_count": 3,
       "columns": [
        {
         "name": "id",
         "dtype": "int64",
         "stats": {
          "unique_count": 10,
          "nan_count": 0,
          "min": "60951089",
          "max": "1441080293364879375",
          "histogram": [
           {
            "bin_start": 60951089,
            "bin_end": 144108029391343920,
            "count": 4
           },
           {
            "bin_start": 144108029391343920,
            "bin_end": 288216058721736770,
            "count": 0
           },
           {
            "bin_start": 288216058721736770,
            "bin_end": 432324088052129600,
            "count": 0
           },
           {
            "bin_start": 432324088052129600,
            "bin_end": 576432117382522430,
            "count": 0
           },
           {
            "bin_start": 576432117382522430,
            "bin_end": 720540146712915200,
            "count": 0
           },
           {
            "bin_start": 720540146712915200,
            "bin_end": 864648176043308000,
            "count": 1
           },
           {
            "bin_start": 864648176043308000,
            "bin_end": 1008756205373700900,
            "count": 1
           },
           {
            "bin_start": 1008756205373700900,
            "bin_end": 1152864234704093700,
            "count": 2
           },
           {
            "bin_start": 1152864234704093700,
            "bin_end": 1296972264034486500,
            "count": 0
           },
           {
            "bin_start": 1296972264034486500,
            "bin_end": 1441080293364879400,
            "count": 2
           }
          ]
         }
        },
        {
         "name": "username",
         "dtype": "object",
         "stats": {
          "unique_count": 10,
          "nan_count": 0,
          "categories": [
           {
            "name": "桜木李杏🌸🍲🦊C99_1日目「メ36a」委託/2日目「に35a」",
            "count": 1
           },
           {
            "name": "theolreverendsburner",
            "count": 1
           },
           {
            "name": "8 others",
            "count": 8
           }
          ]
         }
        },
        {
         "name": "tweet",
         "dtype": "object",
         "stats": {
          "unique_count": 10,
          "nan_count": 0,
          "categories": [
           {
            "name": "b\"RT @lockheimer: We're bringing Play Games to Windows 10 and 11! Pretty excited to partner with so many game developers so that you can seam\\xe2\\x80\\xa6\"",
            "count": 1
           },
           {
            "name": "b'@Macauley_Tonna @Halo My 2 cents: do a clean Windows 11 installation and just install your chipset and GPU drivers.'",
            "count": 1
           },
           {
            "name": "8 others",
            "count": 8
           }
          ]
         }
        },
        {
         "name": "_deepnote_index_column",
         "dtype": "int64"
        }
       ],
       "rows_top": [
        {
         "id": 60951089,
         "username": "桜木李杏🌸🍲🦊C99_1日目「メ36a」委託/2日目「に35a」",
         "tweet": "b\"RT @lockheimer: We're bringing Play Games to Windows 10 and 11! Pretty excited to partner with so…",
         "_deepnote_index_column": 0
        },
        {
         "id": 1408009628764586000,
         "username": "theolreverendsburner",
         "tweet": "b'@Macauley_Tonna @Halo My 2 cents: do a clean Windows 11 installation and just install your chipse…",
         "_deepnote_index_column": 1
        },
        {
         "id": 1082920971114332200,
         "username": "Ricoh eShop UK",
         "tweet": "b'*PRODUCT*\\n\\nThe Lenovo notebook Laptops with NEW windows 11 are now available on the Ricoh eShop…",
         "_deepnote_index_column": 2
        },
        {
         "id": 2198733733,
         "username": "Cleodesktop",
         "tweet": "b'After Dark Gray Theme For Windows 11 - \\nGet it here: https://t.co/ERekOx4wrP \\n#FreeFire #Window…",
         "_deepnote_index_column": 3
        },
        {
         "id": 1052557647856189400,
         "username": "Beyte Fyr",
         "tweet": "b\"Should I upgrade to Windows 11? I'm angsty about this.\"",
         "_deepnote_index_column": 4
        },
        {
         "id": 741271705419681800,
         "username": "Pureinfotech (feed)",
         "tweet": "b'Pantone Color of the Year 2022 theme for Windows\\xc2\\xa011 https://t.co/rEz9cUHkiN'",
         "_deepnote_index_column": 5
        },
        {
         "id": 153375516,
         "username": "Marcus Griffiths",
         "tweet": "b'RT @CRecyclers: *LIMITED AVAILABILITY* \\nWindows 11 Ready Laptops! \\nOrder now for Christmas Deli…",
         "_deepnote_index_column": 6
        },
        {
         "id": 1005087587923419100,
         "username": "いまおか",
         "tweet": "b'As the availability of new PC processors and new-generation Windows 11 will drive a replacement b…",
         "_deepnote_index_column": 7
        },
        {
         "id": 1441080293364879400,
         "username": "Vinay Kishore",
         "tweet": "b'Arggggg\\xf0\\x9f\\x98\\xa1.......Everything in windows 11 is getting clicked twice. Everyone facing …",
         "_deepnote_index_column": 8
        },
        {
         "id": 3064146644,
         "username": "SATYAJIT GHOSH ",
         "tweet": "b'RT @MicrosoftHelps: It might not come with a bow \\xf0\\x9f\\x8e\\x80 on top, but your PC will love t…",
         "_deepnote_index_column": 9
        }
       ],
       "rows_bottom": null
      },
      "text/plain": "                    id                          username  \\\n0             60951089  桜木李杏🌸🍲🦊C99_1日目「メ36a」委託/2日目「に35a」   \n1  1408009628764585984              theolreverendsburner   \n2  1082920971114332160                    Ricoh eShop UK   \n3           2198733733                       Cleodesktop   \n4  1052557647856189441                         Beyte Fyr   \n5   741271705419681792               Pureinfotech (feed)   \n6            153375516                  Marcus Griffiths   \n7  1005087587923419137                              いまおか   \n8  1441080293364879375                     Vinay Kishore   \n9           3064146644                  SATYAJIT GHOSH    \n\n                                               tweet  \n0  b\"RT @lockheimer: We're bringing Play Games to...  \n1  b'@Macauley_Tonna @Halo My 2 cents: do a clean...  \n2  b'*PRODUCT*\\n\\nThe Lenovo notebook Laptops wit...  \n3  b'After Dark Gray Theme For Windows 11 - \\nGet...  \n4  b\"Should I upgrade to Windows 11? I'm angsty a...  \n5  b'Pantone Color of the Year 2022 theme for Win...  \n6  b'RT @CRecyclers: *LIMITED AVAILABILITY* \\nWin...  \n7  b'As the availability of new PC processors and...  \n8  b'Arggggg\\xf0\\x9f\\x98\\xa1.......Everything in ...  \n9  b'RT @MicrosoftHelps: It might not come with a...  ",
      "text/html": "<div>\n<style scoped>\n    .dataframe tbody tr th:only-of-type {\n        vertical-align: middle;\n    }\n\n    .dataframe tbody tr th {\n        vertical-align: top;\n    }\n\n    .dataframe thead th {\n        text-align: right;\n    }\n</style>\n<table border=\"1\" class=\"dataframe\">\n  <thead>\n    <tr style=\"text-align: right;\">\n      <th></th>\n      <th>id</th>\n      <th>username</th>\n      <th>tweet</th>\n    </tr>\n  </thead>\n  <tbody>\n    <tr>\n      <th>0</th>\n      <td>60951089</td>\n      <td>桜木李杏🌸🍲🦊C99_1日目「メ36a」委託/2日目「に35a」</td>\n      <td>b\"RT @lockheimer: We're bringing Play Games to...</td>\n    </tr>\n    <tr>\n      <th>1</th>\n      <td>1408009628764585984</td>\n      <td>theolreverendsburner</td>\n      <td>b'@Macauley_Tonna @Halo My 2 cents: do a clean...</td>\n    </tr>\n    <tr>\n      <th>2</th>\n      <td>1082920971114332160</td>\n      <td>Ricoh eShop UK</td>\n      <td>b'*PRODUCT*\\n\\nThe Lenovo notebook Laptops wit...</td>\n    </tr>\n    <tr>\n      <th>3</th>\n      <td>2198733733</td>\n      <td>Cleodesktop</td>\n      <td>b'After Dark Gray Theme For Windows 11 - \\nGet...</td>\n    </tr>\n    <tr>\n      <th>4</th>\n      <td>1052557647856189441</td>\n      <td>Beyte Fyr</td>\n      <td>b\"Should I upgrade to Windows 11? I'm angsty a...</td>\n    </tr>\n    <tr>\n      <th>5</th>\n      <td>741271705419681792</td>\n      <td>Pureinfotech (feed)</td>\n      <td>b'Pantone Color of the Year 2022 theme for Win...</td>\n    </tr>\n    <tr>\n      <th>6</th>\n      <td>153375516</td>\n      <td>Marcus Griffiths</td>\n      <td>b'RT @CRecyclers: *LIMITED AVAILABILITY* \\nWin...</td>\n    </tr>\n    <tr>\n      <th>7</th>\n      <td>1005087587923419137</td>\n      <td>いまおか</td>\n      <td>b'As the availability of new PC processors and...</td>\n    </tr>\n    <tr>\n      <th>8</th>\n      <td>1441080293364879375</td>\n      <td>Vinay Kishore</td>\n      <td>b'Arggggg\\xf0\\x9f\\x98\\xa1.......Everything in ...</td>\n    </tr>\n    <tr>\n      <th>9</th>\n      <td>3064146644</td>\n      <td>SATYAJIT GHOSH </td>\n      <td>b'RT @MicrosoftHelps: It might not come with a...</td>\n    </tr>\n  </tbody>\n</table>\n</div>"
     },
     "metadata": {}
    }
   ]
  },
  {
   "cell_type": "markdown",
   "source": "# 7. Machine Learning - Sentiment Analysis",
   "metadata": {
    "tags": [],
    "cell_id": "00019-3306643f-2e59-4de5-a285-22d53a049d95",
    "deepnote_cell_type": "markdown"
   }
  },
  {
   "cell_type": "markdown",
   "source": "## 7.1. Read Data",
   "metadata": {
    "tags": [],
    "cell_id": "00019-2d6eaa3d-dd5a-49cf-8073-fbc09de46024",
    "deepnote_cell_type": "markdown"
   }
  },
  {
   "cell_type": "code",
   "metadata": {
    "tags": [],
    "cell_id": "00021-633eccb7-d4b8-43fa-9ba0-ab628c995ddb",
    "deepnote_to_be_reexecuted": false,
    "source_hash": "f705a2f3",
    "execution_start": 1639232534131,
    "execution_millis": 0,
    "deepnote_cell_type": "code"
   },
   "source": "# konstanta topik\nTOPIC = \"Windows 11\"",
   "execution_count": 2,
   "outputs": []
  },
  {
   "cell_type": "code",
   "metadata": {
    "tags": [],
    "cell_id": "00022-58b7425c-b4db-4cb5-a31c-0ee2ea525d48",
    "deepnote_to_be_reexecuted": false,
    "source_hash": "a8de28a",
    "execution_start": 1639232534133,
    "execution_millis": 1491,
    "deepnote_cell_type": "code"
   },
   "source": "import pandas as pd\nimport numpy as np\nimport matplotlib.pyplot as plt\nimport seaborn as sns\n\nimport sqlite3 as s3\n\nimport re\nimport codecs",
   "execution_count": 3,
   "outputs": []
  },
  {
   "cell_type": "code",
   "metadata": {
    "tags": [],
    "cell_id": "00019-b69567e4-21fb-4efc-bf1f-50ff0b59ef50",
    "deepnote_to_be_reexecuted": false,
    "source_hash": "c1d0324d",
    "execution_start": 1639232535624,
    "execution_millis": 22,
    "deepnote_cell_type": "code"
   },
   "source": "# membuat koneksi ke database\nconn = s3.connect('windows11_data.db')\n\n# Object cursor untuk menjalankan perintah SQL\ncur = conn.cursor()\nquery = '''select * from windows11_table'''\ndf = pd.read_sql(query, conn)\ndf",
   "execution_count": 4,
   "outputs": [
    {
     "output_type": "execute_result",
     "execution_count": 4,
     "data": {
      "application/vnd.deepnote.dataframe.v2+json": {
       "row_count": 105,
       "column_count": 3,
       "columns": [
        {
         "name": "id",
         "dtype": "int64",
         "stats": {
          "unique_count": 94,
          "nan_count": 0,
          "min": "63043",
          "max": "1469317591445524490",
          "histogram": [
           {
            "bin_start": 63043,
            "bin_end": 146931759144609180,
            "count": 60
           },
           {
            "bin_start": 146931759144609180,
            "bin_end": 293863518289155300,
            "count": 0
           },
           {
            "bin_start": 293863518289155300,
            "bin_end": 440795277433701440,
            "count": 0
           },
           {
            "bin_start": 440795277433701440,
            "bin_end": 587727036578247700,
            "count": 0
           },
           {
            "bin_start": 587727036578247700,
            "bin_end": 734658795722793900,
            "count": 3
           },
           {
            "bin_start": 734658795722793900,
            "bin_end": 881590554867339900,
            "count": 6
           },
           {
            "bin_start": 881590554867339900,
            "bin_end": 1028522314011886100,
            "count": 8
           },
           {
            "bin_start": 1028522314011886100,
            "bin_end": 1175454073156432100,
            "count": 8
           },
           {
            "bin_start": 1175454073156432100,
            "bin_end": 1322385832300978200,
            "count": 11
           },
           {
            "bin_start": 1322385832300978200,
            "bin_end": 1469317591445524500,
            "count": 9
           }
          ]
         }
        },
        {
         "name": "username",
         "dtype": "object",
         "stats": {
          "unique_count": 94,
          "nan_count": 0,
          "categories": [
           {
            "name": "SATYAJIT GHOSH ",
            "count": 8
           },
           {
            "name": "Prof. Lee Stott",
            "count": 2
           },
           {
            "name": "92 others",
            "count": 95
           }
          ]
         }
        },
        {
         "name": "tweet",
         "dtype": "object",
         "stats": {
          "unique_count": 94,
          "nan_count": 0,
          "categories": [
           {
            "name": "b'RT @gsmarena_com: Google Play Store games coming to Windows 10 and 11 next year https://t.co/DdXfOPK7Wo https://t.co/y0z497XVQS'",
            "count": 4
           },
           {
            "name": "b\"RT @lockheimer: We're bringing Play Games to Windows 10 and 11! Pretty excited to partner with so many game developers so that you can seam\\xe2\\x80\\xa6\"",
            "count": 3
           },
           {
            "name": "92 others",
            "count": 98
           }
          ]
         }
        },
        {
         "name": "_deepnote_index_column",
         "dtype": "int64"
        }
       ],
       "rows_top": [
        {
         "id": 60951089,
         "username": "桜木李杏🌸🍲🦊C99_1日目「メ36a」委託/2日目「に35a」",
         "tweet": "b\"RT @lockheimer: We're bringing Play Games to Windows 10 and 11! Pretty excited to partner with so…",
         "_deepnote_index_column": 0
        },
        {
         "id": 1408009628764586000,
         "username": "theolreverendsburner",
         "tweet": "b'@Macauley_Tonna @Halo My 2 cents: do a clean Windows 11 installation and just install your chipse…",
         "_deepnote_index_column": 1
        },
        {
         "id": 1082920971114332200,
         "username": "Ricoh eShop UK",
         "tweet": "b'*PRODUCT*\\n\\nThe Lenovo notebook Laptops with NEW windows 11 are now available on the Ricoh eShop…",
         "_deepnote_index_column": 2
        },
        {
         "id": 2198733733,
         "username": "Cleodesktop",
         "tweet": "b'After Dark Gray Theme For Windows 11 - \\nGet it here: https://t.co/ERekOx4wrP \\n#FreeFire #Window…",
         "_deepnote_index_column": 3
        },
        {
         "id": 1052557647856189400,
         "username": "Beyte Fyr",
         "tweet": "b\"Should I upgrade to Windows 11? I'm angsty about this.\"",
         "_deepnote_index_column": 4
        },
        {
         "id": 741271705419681800,
         "username": "Pureinfotech (feed)",
         "tweet": "b'Pantone Color of the Year 2022 theme for Windows\\xc2\\xa011 https://t.co/rEz9cUHkiN'",
         "_deepnote_index_column": 5
        },
        {
         "id": 153375516,
         "username": "Marcus Griffiths",
         "tweet": "b'RT @CRecyclers: *LIMITED AVAILABILITY* \\nWindows 11 Ready Laptops! \\nOrder now for Christmas Deli…",
         "_deepnote_index_column": 6
        },
        {
         "id": 1005087587923419100,
         "username": "いまおか",
         "tweet": "b'As the availability of new PC processors and new-generation Windows 11 will drive a replacement b…",
         "_deepnote_index_column": 7
        },
        {
         "id": 1441080293364879400,
         "username": "Vinay Kishore",
         "tweet": "b'Arggggg\\xf0\\x9f\\x98\\xa1.......Everything in windows 11 is getting clicked twice. Everyone facing …",
         "_deepnote_index_column": 8
        },
        {
         "id": 3064146644,
         "username": "SATYAJIT GHOSH ",
         "tweet": "b'RT @MicrosoftHelps: It might not come with a bow \\xf0\\x9f\\x8e\\x80 on top, but your PC will love t…",
         "_deepnote_index_column": 9
        },
        {
         "id": 20961162,
         "username": "Sam Bowne",
         "tweet": "b'The 10 Worst Things About Windows 11 | PCMag https://t.co/uJpdXDr0jv'",
         "_deepnote_index_column": 10
        },
        {
         "id": 1384072455929565200,
         "username": "Danielle Matos",
         "tweet": "b'RT @MicrosoftHelps: It might not come with a bow \\xf0\\x9f\\x8e\\x80 on top, but your PC will love t…",
         "_deepnote_index_column": 11
        },
        {
         "id": 1292947390215778300,
         "username": "Vandal ❄️",
         "tweet": "b'@OctoberrK is windows 11 bearable and like Functional'",
         "_deepnote_index_column": 12
        },
        {
         "id": 215833298,
         "username": "Danlie",
         "tweet": "b'Windows 11 on Intel Core 7th gen. https://t.co/mXcHZyqiWN'",
         "_deepnote_index_column": 13
        },
        {
         "id": 760478434095226900,
         "username": "william mcnellis",
         "tweet": "b'Windows 11 is getting one of Windows 10\\xe2\\x80\\x99s most divisive features https://t.co/fSEgIqBr…",
         "_deepnote_index_column": 14
        },
        {
         "id": 95925831,
         "username": "Michael Brown",
         "tweet": "b'Windows 11 and Xbox are calling my name in 2022.'",
         "_deepnote_index_column": 15
        },
        {
         "id": 1168656219474747400,
         "username": "LTT Markov",
         "tweet": "b'Android 11 is BETTER than windows?'",
         "_deepnote_index_column": 16
        },
        {
         "id": 109082290,
         "username": "National Cyber Security",
         "tweet": "b'Top 7 Ways to Fix Firefox Not Responding on Windows 10 and Windows 11 | #firefox | #chrome |\\xc2\\…",
         "_deepnote_index_column": 17
        },
        {
         "id": 194297917,
         "username": "Gregory D. Evans",
         "tweet": "b'Top 7 Ways to Fix Firefox Not Responding on Windows 10 and Windows 11 | #firefox | #chrome |\\xc2\\…",
         "_deepnote_index_column": 18
        },
        {
         "id": 1239549226025193500,
         "username": "Mahmoud👨🏻‍💻",
         "tweet": "b\"Windows 11 is the worst so far, it has unbelievably bugs, slowness, and critical issues \\nI'm rei…",
         "_deepnote_index_column": 19
        },
        {
         "id": 546063993,
         "username": "First Column - IT",
         "tweet": "b'How to Make Your Chrome Browser Look Like Windows 11 https://t.co/r4dQIyxgtH https://t.co/neUs29h…",
         "_deepnote_index_column": 20
        },
        {
         "id": 3064146644,
         "username": "SATYAJIT GHOSH ",
         "tweet": "b\"RT @JD__Online: @Microsoft I just like Bloomberry. It's different, it tastes good, like @Windows …",
         "_deepnote_index_column": 21
        },
        {
         "id": 1021740965407600600,
         "username": "JD is studying",
         "tweet": "b\"@Microsoft I just like Bloomberry. It's different, it tastes good, like @Windows 11.\"",
         "_deepnote_index_column": 22
        },
        {
         "id": 620295058,
         "username": "Ezefidelity",
         "tweet": "b'\\xe2\\x9c\\xa8Top 7 Ways to Fix Firefox Not Responding on Windows 10 and Windows 11\\n\\n\\xf0\\x9f\\x94…",
         "_deepnote_index_column": 23
        },
        {
         "id": 92008385,
         "username": "Prof. Lee Stott",
         "tweet": "b'RT @mspoweruser: Google is bringing Google Play Games to Windows (and you wont need Windows 11) -…",
         "_deepnote_index_column": 24
        },
        {
         "id": 3064146644,
         "username": "SATYAJIT GHOSH ",
         "tweet": "b'RT @XbaseTech: Good news! Microsoft is accelerating the Windows 11 rollout for eligible devices. …",
         "_deepnote_index_column": 25
        },
        {
         "id": 92008385,
         "username": "Prof. Lee Stott",
         "tweet": "b'RT @tomwarren: Microsoft is adding a video encoding feature directly into DirectX 12 on Windows 1…",
         "_deepnote_index_column": 26
        },
        {
         "id": 1264655569,
         "username": "XBASE Technologies",
         "tweet": "b'Good news! Microsoft is accelerating the Windows 11 rollout for eligible devices.  https://t.co/m…",
         "_deepnote_index_column": 27
        },
        {
         "id": 63043,
         "username": "MUO",
         "tweet": "b'How to Stop Automatic Updates on Windows 11 https://t.co/7PBtabxl6b'",
         "_deepnote_index_column": 28
        },
        {
         "id": 4026513973,
         "username": "IBITS",
         "tweet": "b'Be careful if you upgrade to Windows 11 and then change your mind\\xe2\\x80\\xa6 you only have 10 da…",
         "_deepnote_index_column": 29
        },
        {
         "id": 3064146644,
         "username": "SATYAJIT GHOSH ",
         "tweet": "b'RT @panos_panay: Microsoft has partnered with @pantone to incorporate the 2022 Color of the Year …",
         "_deepnote_index_column": 30
        },
        {
         "id": 852845856319565800,
         "username": "Kevin John Banks",
         "tweet": "b'The Best Productivity Features You Should Use in Windows 11 https://t.co/wco55lpJ41'",
         "_deepnote_index_column": 31
        },
        {
         "id": 3303759385,
         "username": "Gyana",
         "tweet": "b'RT @panos_panay: Microsoft has partnered with @pantone to incorporate the 2022 Color of the Year …",
         "_deepnote_index_column": 32
        },
        {
         "id": 612076511,
         "username": "Microsoft Surface",
         "tweet": "b\"@AdityaC34266984 There's so much to love with Windows 11! Which of the new features has been stan…",
         "_deepnote_index_column": 33
        },
        {
         "id": 1229759588,
         "username": "Honky Tonk Chicken Man Nacho Libre 🏒😎🇨🇦",
         "tweet": "b'@nusterbubbins upgraded to Windows 11 on my new laptop \\xf0\\x9f\\x98\\xac\\xf0\\x9f\\x98\\xac\\xf0\\x9f\\x…",
         "_deepnote_index_column": 34
        },
        {
         "id": 3064146644,
         "username": "SATYAJIT GHOSH ",
         "tweet": "b'RT @TrinicoCloud: Microsoft is bringing back the weather widget on the Windows 11 taskbar https:/…",
         "_deepnote_index_column": 35
        },
        {
         "id": 1381392402687090700,
         "username": "Ahmed Abdel Latif",
         "tweet": "b'RT @mspoweruser: Google is bringing Google Play Games to Windows (and you wont need Windows 11) -…",
         "_deepnote_index_column": 36
        },
        {
         "id": 3360886175,
         "username": "Trinico Cloud",
         "tweet": "b'Microsoft is bringing back the weather widget on the Windows 11 taskbar https://t.co/vDNDLfXZ2O'",
         "_deepnote_index_column": 37
        },
        {
         "id": 399985113,
         "username": "Dimitri Lambrecht",
         "tweet": "b'In the core of this insane feature is 30yrs old technology of #lernoutandhauspie | #Microsoft Goe…",
         "_deepnote_index_column": 38
        },
        {
         "id": 1251493696740229000,
         "username": "TecniAsistencia.es",
         "tweet": "b\"\\xf0\\x9f\\x91\\x89 Notebook HP Revolve 810 G3, 11'', Touch Intel Core i7-5600U, 2,60 GHz, 8 GB de R…",
         "_deepnote_index_column": 39
        },
        {
         "id": 3064146644,
         "username": "SATYAJIT GHOSH ",
         "tweet": "b\"RT @X_SOLDIER: Android 12 is like when Microsoft released Windows 8 with the Metro UI \\n\\n\\xe2\\x8…",
         "_deepnote_index_column": 40
        },
        {
         "id": 26977067,
         "username": "Rose Sana",
         "tweet": "b'Google Play Store games coming to Windows 10 and 11 next year https://t.co/oWpLxkDIBX https://t.c…",
         "_deepnote_index_column": 41
        },
        {
         "id": 77179485,
         "username": "Sam Afshari 🇪🇺",
         "tweet": "b'Even moving windows around lags on Windows 11 on a maxed out Surface Book 3'",
         "_deepnote_index_column": 42
        },
        {
         "id": 1341063807154745300,
         "username": "ash/declan 📀🎵🎮",
         "tweet": "b\"@lilanne_lunice i've read it might be using wayland? but in any case yeah on windows 11 you can j…",
         "_deepnote_index_column": 43
        },
        {
         "id": 3433815723,
         "username": "WiseGuys",
         "tweet": "b\"RT @WindowsLatest: Hands on with Windows 11's redesigned Notepad app with dark mode https://t.co/…",
         "_deepnote_index_column": 44
        },
        {
         "id": 61975633,
         "username": "Pierce Arner",
         "tweet": "b\"Android 12 is like when Microsoft released Windows 8 with the Metro UI \\n\\n\\xe2\\x80\\x94 It's flat…",
         "_deepnote_index_column": 45
        },
        {
         "id": 1284414997599117300,
         "username": "nightplu",
         "tweet": "b'@RyuuShuo @Microsoft Are you upgrade to Windows 11?'",
         "_deepnote_index_column": 46
        },
        {
         "id": 77179485,
         "username": "Sam Afshari 🇪🇺",
         "tweet": "b'Downgraded from @Windows 11 to Windows 10. 11 is too slow, inefficient, unpolished and buggy.'",
         "_deepnote_index_column": 47
        },
        {
         "id": 743579496574492700,
         "username": "Lorenzo D'Annunzio",
         "tweet": "b'RT @WindowsLatest: Microsoft admits another Windows 11 bug is slowing down PCs, but a fix is comi…",
         "_deepnote_index_column": 48
        },
        {
         "id": 2790948541,
         "username": "Tech Industry Briefly",
         "tweet": "b\"Google Play Store games coming to Windows 10 and 11 next year (https://t.co/gdsm1FU5oy)\\n\\nDuring…",
         "_deepnote_index_column": 49
        },
        {
         "id": 968617616762916900,
         "username": "The Bluewolf",
         "tweet": "b'RT @joehelle: Take that Windows 11 and Defender. https://t.co/66GNrZrFt9'",
         "_deepnote_index_column": 50
        },
        {
         "id": 2480152112,
         "username": "Hawkdive",
         "tweet": "b'Annoyed by fix low Microphone volume issues in Windows 11? Let\\xe2\\x80\\x99s see what can be done …",
         "_deepnote_index_column": 51
        },
        {
         "id": 725719639175516200,
         "username": "🌸 サッチ 🌸",
         "tweet": "b'WINDOWS 11. I ABHOR YOU.'",
         "_deepnote_index_column": 52
        },
        {
         "id": 4143203369,
         "username": "Karl Heinz Häsliprinz",
         "tweet": "b'@nixcraft There was a short dip when SSDs first entered the market, but Windows 11 seems capable …",
         "_deepnote_index_column": 53
        },
        {
         "id": 2438099425,
         "username": "総理大臣@あんぽんたん",
         "tweet": "b'RT @carlyraejepsen: Look at this adorable Airbnb I found! So spacious and so many windows. Consid…",
         "_deepnote_index_column": 54
        },
        {
         "id": 113231054,
         "username": "J • P • M • T",
         "tweet": "b'RT @gsmarena_com: Google Play Store games coming to Windows 10 and 11 next year https://t.co/DdXf…",
         "_deepnote_index_column": 55
        },
        {
         "id": 726420862866346000,
         "username": "taufiq #GrazieVale",
         "tweet": "b'windows 11 ice cream'",
         "_deepnote_index_column": 56
        },
        {
         "id": 3816550932,
         "username": "Reciprocal Technologies",
         "tweet": "b'How to Make Your Chrome Browser Look Like Windows 11 https://t.co/NIeIpJmiL3 https://t.co/LO3dbwc…",
         "_deepnote_index_column": 57
        },
        {
         "id": 56799145,
         "username": "Lonely This Chris-mas 🎅🏻",
         "tweet": "b'Of course, me being me, I\\xe2\\x80\\x99m going to try and upgrade it to Windows 11 now\\xe2\\x80\\xa6 …",
         "_deepnote_index_column": 58
        },
        {
         "id": 1433881,
         "username": "Zach Petersen",
         "tweet": "b\"Upgraded to Windows 11 yesterday. First time I've been completely meh about a Windows upgrade. Lo…",
         "_deepnote_index_column": 59
        },
        {
         "id": 1142416848044068900,
         "username": "Katie, In Search of the Way",
         "tweet": "b'Has anyone updated to windows 11? How are  you finding it, if so?'",
         "_deepnote_index_column": 60
        },
        {
         "id": 2858012136,
         "username": "Latest Phones & Gadgets",
         "tweet": "b'Google Play Store games coming to Windows 10 and 11 next\\xc2\\xa0year https://t.co/odW98B0v09'",
         "_deepnote_index_column": 61
        },
        {
         "id": 314653455,
         "username": "xbit ops",
         "tweet": "b'RT @benjedwards: I\\xe2\\x80\\x99d love to see a Windows 3.11 PC Mini\\xe2\\x80\\x94a micro game consol…",
         "_deepnote_index_column": 62
        },
        {
         "id": 1114995429958144000,
         "username": "schwa 🦎👒",
         "tweet": "b'can anyone help me figure out why my laptop is slow and how to fix it? ive upgraded to windows 11…",
         "_deepnote_index_column": 63
        },
        {
         "id": 19720653,
         "username": "Tech Advisor",
         "tweet": "b'Android games will arrive on Windows 11 next year https://t.co/fafjFyKWpp via @anyroncopeman'",
         "_deepnote_index_column": 64
        },
        {
         "id": 1312893851191959600,
         "username": "euge del carril",
         "tweet": "b'RT @annh_campos: @svetlana_denver @barbara_dear @Wanda2137 @Magda31076764 @Gaby_FMP @IanevaZoia @…",
         "_deepnote_index_column": 65
        },
        {
         "id": 760678325685784600,
         "username": "Aaron Brighton",
         "tweet": "b'@Model3Owners Yah \\xf0\\x9f\\x98\\xa2, there used to be one that every night at 11:30 PM on the dot …",
         "_deepnote_index_column": 66
        },
        {
         "id": 5889072,
         "username": "Wccftech",
         "tweet": "b'Don\\xe2\\x80\\x99t Miss the Double Sale at Keysfan \\xe2\\x80\\x93 Buy Office and get Windows 10/11 fo…",
         "_deepnote_index_column": 67
        },
        {
         "id": 1166012424215883800,
         "username": "Kruti",
         "tweet": "b'RT @backlon: Google is bringing Google Play Games to Windows. Not via the new Android in Windows …",
         "_deepnote_index_column": 68
        },
        {
         "id": 3064146644,
         "username": "SATYAJIT GHOSH ",
         "tweet": "b'RT @benjedwards: I\\xe2\\x80\\x99d love to see a Windows 3.11 PC Mini\\xe2\\x80\\x94a micro game consol…",
         "_deepnote_index_column": 69
        },
        {
         "id": 19948217,
         "username": "Benj Edwards",
         "tweet": "b'RT @benjedwards: I\\xe2\\x80\\x99d love to see a Windows 3.11 PC Mini\\xe2\\x80\\x94a micro game consol…",
         "_deepnote_index_column": 70
        },
        {
         "id": 595292451,
         "username": "Tero Alhonen",
         "tweet": "b'Keyboard shortcuts in Windows 11 https://t.co/afd8noVkWE'",
         "_deepnote_index_column": 71
        },
        {
         "id": 3041049114,
         "username": "Peter Kenneally",
         "tweet": "b'How to Make Your Chrome Browser Look Like Windows 11 https://t.co/hbDlhaTcqj https://t.co/gp5GSlS…",
         "_deepnote_index_column": 72
        },
        {
         "id": 721544046653493200,
         "username": "RICK RIOS DOMÍNGUEZ",
         "tweet": "b'@ocshoobie @Yeetbotman some people have reported that doesn\\xe2\\x80\\x99t work for them but that\\x…",
         "_deepnote_index_column": 73
        },
        {
         "id": 1304550008,
         "username": "Tetsuo",
         "tweet": "b'RT @gsmarena_com: Google Play Store games coming to Windows 10 and 11 next year https://t.co/DdXf…",
         "_deepnote_index_column": 74
        },
        {
         "id": 1136014784569258000,
         "username": "🌴 ʙᴀʀʙᴀᴅᴏꜱ ꜱʟɪᴍ 🌴",
         "tweet": "b'just got Windows 11. A little weird but I kinda dig it. Wish version of Mac OS lol'",
         "_deepnote_index_column": 75
        },
        {
         "id": 339762824,
         "username": "Ed Tittel",
         "tweet": "b'Latest #Windows11 Dev Channel Build 22518 can use MS Spotlight for desktop backgrounds. Cool! #WI…",
         "_deepnote_index_column": 76
        },
        {
         "id": 2798993669,
         "username": "BlackHand",
         "tweet": "b'RT @gsmarena_com: Google Play Store games coming to Windows 10 and 11 next year https://t.co/DdXf…",
         "_deepnote_index_column": 77
        },
        {
         "id": 1435069887366455300,
         "username": "Owen Fitzgerald",
         "tweet": "b\"@IrishLitTimes Hopefully it's not run on Windows 11.\"",
         "_deepnote_index_column": 78
        },
        {
         "id": 1190819764127568000,
         "username": "Lauren \"Vote blue to keep out you know who\" McCoy",
         "tweet": "b'@WindowsLatest But as I said before this came out... Windows 11 = Vista pre-SP1.  Same damn thing…",
         "_deepnote_index_column": 79
        },
        {
         "id": 209038505,
         "username": "USMAN YUSUF™",
         "tweet": "b'Google will bring Android games to Windows 10 and 11 next year https://t.co/sCQGh6xzUN via @gizmo…",
         "_deepnote_index_column": 80
        },
        {
         "id": 1190819764127568000,
         "username": "Lauren \"Vote blue to keep out you know who\" McCoy",
         "tweet": "b'@WindowsLatest Good.  Keep the improvements coming.  When I first installed Windows 11 ARM on my …",
         "_deepnote_index_column": 81
        },
        {
         "id": 899710030710284300,
         "username": "yo🎄 #advyout",
         "tweet": "b'@zSkipper11 no te instales windows 11'",
         "_deepnote_index_column": 82
        },
        {
         "id": 1080116711683178500,
         "username": "ǝWɹǝๅɐǝꓤǝɥꓕ 🍥",
         "tweet": "b'RT @mspoweruser: Microsoft acknowledges slow Windows 11 NVMe SSD write speeds issue, is working o…",
         "_deepnote_index_column": 83
        },
        {
         "id": 1251067832667828200,
         "username": "bunga tidur jual iPhone cek pinned",
         "tweet": "b'Lepi minta update windows 11 teroos, tp takoot failed ueueue'",
         "_deepnote_index_column": 84
        },
        {
         "id": 819821216764727300,
         "username": "Iryna.Fesenko",
         "tweet": "b'New #Windows11 build tests Voice Access, Spotlight backgrounds\\nby @markhachman\\nhttps://t.co/BRT…",
         "_deepnote_index_column": 85
        },
        {
         "id": 1013927542972211200,
         "username": "Mom Giggles",
         "tweet": "b'RT @LevantiniV_PhD: We explored for the first time whether parenting moderated the association be…",
         "_deepnote_index_column": 86
        },
        {
         "id": 932373490849628200,
         "username": "amy iverson",
         "tweet": "b'@keedohh I came home late like 11, didn\\xe2\\x80\\x99t sleep til midnight so I bet she did come hom…",
         "_deepnote_index_column": 87
        },
        {
         "id": 1394657618145136600,
         "username": "O. Lakshmi Tanmay Teja",
         "tweet": "b'RT @gsmarena_com: Google Play Store games coming to Windows 10 and 11 next year https://t.co/DdXf…",
         "_deepnote_index_column": 88
        },
        {
         "id": 30092983,
         "username": "Zach Bigalke, ABD",
         "tweet": "b'@tkinias ... and then wondering why my computer is slow, even though I have 11 different windows …",
         "_deepnote_index_column": 89
        },
        {
         "id": 56784509,
         "username": "Mark Stockman",
         "tweet": "b'Oof, Windows 11 BSOD https://t.co/HoofTLT9H9'",
         "_deepnote_index_column": 90
        },
        {
         "id": 1468984082734452700,
         "username": "Crispy",
         "tweet": "b\"RT @velo_tw: 150 rts and I'll make the first Windows 11 iso \\xf0\\x9f\\xa4\\x9d\"",
         "_deepnote_index_column": 91
        },
        {
         "id": 913207395500810200,
         "username": "a1dnoah-b1ue",
         "tweet": "b\"RT @lockheimer: We're bringing Play Games to Windows 10 and 11! Pretty excited to partner with so…",
         "_deepnote_index_column": 92
        },
        {
         "id": 1893719730,
         "username": "todayheadline",
         "tweet": "b'The Best Productivity Features You Should Use in Windows\\xc2\\xa011 https://t.co/Cl2jZuCYO1'",
         "_deepnote_index_column": 93
        },
        {
         "id": 3422367497,
         "username": "Artificial Geek",
         "tweet": "b'Windows 11 is apparently impacting the speed of storage drives (NVMs, SSDs, hard drive) and Micro…",
         "_deepnote_index_column": 94
        },
        {
         "id": 2930156653,
         "username": "Kim Muro",
         "tweet": "b'RT @hudson_chatbots: Microsoft is making Windows 11 less annoying: #DeepLearning #IoT #BigData cc…",
         "_deepnote_index_column": 95
        },
        {
         "id": 1227376754450477000,
         "username": "Gideon Steward",
         "tweet": "b'RT @NeowinFeed: Google Play is coming to Windows 10 and 11 next year as hell freezes over #Google…",
         "_deepnote_index_column": 96
        },
        {
         "id": 1251493696740229000,
         "username": "TecniAsistencia.es",
         "tweet": "b\"Notebook HP Revolve 810 G3, 11'', Touch Intel Core i7-5600U, 2,60 GHz, 8 GB de RAM, SSD de 240 GB…",
         "_deepnote_index_column": 97
        },
        {
         "id": 178250791,
         "username": "Steven D",
         "tweet": "b'RT @WindowsLatest: Microsoft admits another Windows 11 bug is slowing down PCs, but a fix is comi…",
         "_deepnote_index_column": 98
        },
        {
         "id": 1007329123264389100,
         "username": "Generation IX Technologies",
         "tweet": "b'Windows 11 Support In Los Angeles https://t.co/hzuuJv01EZ https://t.co/bZujoirUoO'",
         "_deepnote_index_column": 99
        },
        {
         "id": 2281129274,
         "username": "Mehmet",
         "tweet": "b'Windows 11 Features #1 Color Filters\\n#Windows11 #ColorFilters #Windows11Features https://t.co/NP…",
         "_deepnote_index_column": 100
        },
        {
         "id": 2571317438,
         "username": "鳥麦康人(とりむぎやすと)",
         "tweet": "b\"RT @lockheimer: We're bringing Play Games to Windows 10 and 11! Pretty excited to partner with so…",
         "_deepnote_index_column": 101
        },
        {
         "id": 1274775491006922800,
         "username": "Ash Collins 🏴󠁧󠁢󠁷󠁬󠁳󠁿",
         "tweet": "b'So I had a look at windows 11 the other day and uh... Why is Microsoft trying to hard to make it …",
         "_deepnote_index_column": 102
        },
        {
         "id": 3064146644,
         "username": "SATYAJIT GHOSH ",
         "tweet": "b'RT @androidcodex: So I had a look at windows 11 the other day and uh... Why is Microsoft trying t…",
         "_deepnote_index_column": 103
        },
        {
         "id": 1469317591445524500,
         "username": "Soumyashree Biswal",
         "tweet": "b\"When you don't wanna risk downloading windows 11 prematurely so you tinker with your windows 10 o…",
         "_deepnote_index_column": 104
        }
       ],
       "rows_bottom": null
      },
      "text/plain": "                      id                          username  \\\n0               60951089  桜木李杏🌸🍲🦊C99_1日目「メ36a」委託/2日目「に35a」   \n1    1408009628764585984              theolreverendsburner   \n2    1082920971114332160                    Ricoh eShop UK   \n3             2198733733                       Cleodesktop   \n4    1052557647856189441                         Beyte Fyr   \n..                   ...                               ...   \n100           2281129274                            Mehmet   \n101           2571317438                     鳥麦康人(とりむぎやすと)   \n102  1274775491006922752               Ash Collins 🏴󠁧󠁢󠁷󠁬󠁳󠁿   \n103           3064146644                  SATYAJIT GHOSH    \n104  1469317591445524490                Soumyashree Biswal   \n\n                                                 tweet  \n0    b\"RT @lockheimer: We're bringing Play Games to...  \n1    b'@Macauley_Tonna @Halo My 2 cents: do a clean...  \n2    b'*PRODUCT*\\n\\nThe Lenovo notebook Laptops wit...  \n3    b'After Dark Gray Theme For Windows 11 - \\nGet...  \n4    b\"Should I upgrade to Windows 11? I'm angsty a...  \n..                                                 ...  \n100  b'Windows 11 Features #1 Color Filters\\n#Windo...  \n101  b\"RT @lockheimer: We're bringing Play Games to...  \n102  b'So I had a look at windows 11 the other day ...  \n103  b'RT @androidcodex: So I had a look at windows...  \n104  b\"When you don't wanna risk downloading window...  \n\n[105 rows x 3 columns]",
      "text/html": "<div>\n<style scoped>\n    .dataframe tbody tr th:only-of-type {\n        vertical-align: middle;\n    }\n\n    .dataframe tbody tr th {\n        vertical-align: top;\n    }\n\n    .dataframe thead th {\n        text-align: right;\n    }\n</style>\n<table border=\"1\" class=\"dataframe\">\n  <thead>\n    <tr style=\"text-align: right;\">\n      <th></th>\n      <th>id</th>\n      <th>username</th>\n      <th>tweet</th>\n    </tr>\n  </thead>\n  <tbody>\n    <tr>\n      <th>0</th>\n      <td>60951089</td>\n      <td>桜木李杏🌸🍲🦊C99_1日目「メ36a」委託/2日目「に35a」</td>\n      <td>b\"RT @lockheimer: We're bringing Play Games to...</td>\n    </tr>\n    <tr>\n      <th>1</th>\n      <td>1408009628764585984</td>\n      <td>theolreverendsburner</td>\n      <td>b'@Macauley_Tonna @Halo My 2 cents: do a clean...</td>\n    </tr>\n    <tr>\n      <th>2</th>\n      <td>1082920971114332160</td>\n      <td>Ricoh eShop UK</td>\n      <td>b'*PRODUCT*\\n\\nThe Lenovo notebook Laptops wit...</td>\n    </tr>\n    <tr>\n      <th>3</th>\n      <td>2198733733</td>\n      <td>Cleodesktop</td>\n      <td>b'After Dark Gray Theme For Windows 11 - \\nGet...</td>\n    </tr>\n    <tr>\n      <th>4</th>\n      <td>1052557647856189441</td>\n      <td>Beyte Fyr</td>\n      <td>b\"Should I upgrade to Windows 11? I'm angsty a...</td>\n    </tr>\n    <tr>\n      <th>...</th>\n      <td>...</td>\n      <td>...</td>\n      <td>...</td>\n    </tr>\n    <tr>\n      <th>100</th>\n      <td>2281129274</td>\n      <td>Mehmet</td>\n      <td>b'Windows 11 Features #1 Color Filters\\n#Windo...</td>\n    </tr>\n    <tr>\n      <th>101</th>\n      <td>2571317438</td>\n      <td>鳥麦康人(とりむぎやすと)</td>\n      <td>b\"RT @lockheimer: We're bringing Play Games to...</td>\n    </tr>\n    <tr>\n      <th>102</th>\n      <td>1274775491006922752</td>\n      <td>Ash Collins 🏴󠁧󠁢󠁷󠁬󠁳󠁿</td>\n      <td>b'So I had a look at windows 11 the other day ...</td>\n    </tr>\n    <tr>\n      <th>103</th>\n      <td>3064146644</td>\n      <td>SATYAJIT GHOSH </td>\n      <td>b'RT @androidcodex: So I had a look at windows...</td>\n    </tr>\n    <tr>\n      <th>104</th>\n      <td>1469317591445524490</td>\n      <td>Soumyashree Biswal</td>\n      <td>b\"When you don't wanna risk downloading window...</td>\n    </tr>\n  </tbody>\n</table>\n<p>105 rows × 3 columns</p>\n</div>"
     },
     "metadata": {}
    }
   ]
  },
  {
   "cell_type": "markdown",
   "source": "## 7.2. Preprocessing",
   "metadata": {
    "tags": [],
    "cell_id": "00024-05c11e4b-0542-4d4b-b598-8193e87276ef",
    "deepnote_cell_type": "markdown"
   }
  },
  {
   "cell_type": "markdown",
   "source": "### 7.2.1. Cleaning Text Data",
   "metadata": {
    "tags": [],
    "cell_id": "00028-1c5abebc-10a9-46d7-8720-d6a7361f022f",
    "deepnote_cell_type": "markdown"
   }
  },
  {
   "cell_type": "code",
   "metadata": {
    "tags": [],
    "cell_id": "00029-337584c7-920c-4914-8440-cd96b2862720",
    "deepnote_to_be_reexecuted": false,
    "source_hash": "7d82b8f9",
    "execution_start": 1639232535633,
    "execution_millis": 0,
    "deepnote_cell_type": "code"
   },
   "source": "def preprocess_text(review):\n    # using regex to replace\n    review = codecs.decode(review, 'unicode_escape') #remove escape character\n    review = review[2:-1]\n    review = re.sub('((www\\.[^\\s]+)|(https?://[^\\s]+))','URL', review)\n    review = re.sub('[^\\x00-\\x7f]', '', review) \n    review = re.sub('@[^\\s]+','USER', review)\n    review = review.lower().replace(\"ё\", \"е\")\n    review = re.sub('[^a-zA-Zа-яА-Я1-9]+', ' ', review)\n    review = re.sub(' +',' ', review)\n    return review.strip()",
   "execution_count": 5,
   "outputs": []
  },
  {
   "cell_type": "code",
   "metadata": {
    "tags": [],
    "cell_id": "00030-66dd81c2-59f5-43c0-8b39-83ac69ef4a73",
    "deepnote_to_be_reexecuted": false,
    "source_hash": "8ed1973c",
    "execution_start": 1639232535657,
    "execution_millis": 1,
    "deepnote_cell_type": "code"
   },
   "source": "df['tweet'] = [preprocess_text(review) for review in df['tweet']]",
   "execution_count": 6,
   "outputs": []
  },
  {
   "cell_type": "markdown",
   "source": "## 7.3. Sentiment Analysis using Text Blob",
   "metadata": {
    "tags": [],
    "cell_id": "00031-2c345cea-4013-4ca8-af62-2a93c989c1de",
    "deepnote_cell_type": "markdown"
   }
  },
  {
   "cell_type": "markdown",
   "source": "### 7.3.1. Get Sentiment\n\nBekerja dengan baik pada data text yang berbahasa Inggris",
   "metadata": {
    "tags": [],
    "cell_id": "00032-d12e0f20-d0a8-4765-9424-1ab0706d2a52",
    "deepnote_cell_type": "markdown"
   }
  },
  {
   "cell_type": "code",
   "metadata": {
    "tags": [],
    "cell_id": "00032-b2141320-19cc-4b34-802e-b38fdda13a3f",
    "deepnote_to_be_reexecuted": false,
    "source_hash": "8a3be092",
    "execution_start": 1639232535682,
    "execution_millis": 796,
    "deepnote_cell_type": "code"
   },
   "source": "from textblob import TextBlob\n\ndef sentiment_analysis(data):\n  def getSubjectivity(text):\n    return TextBlob(text).sentiment.subjectivity\n\n  #Create a function to get the polarity\n  def getPolarity(text):\n    return TextBlob(text).sentiment.polarity\n\n  def getAnalysis(score):\n    if score < 0:\n      return \"Negative\"\n    elif score == 0:\n      return \"Neutral\"\n    else:\n      return \"Positive\"\n\n  #Create two new columns 'Subjectivity' & 'Polarity'\n  data[\"TextBlob_Subjectivity\"] = data[\"tweet\"].apply(getSubjectivity)\n  data[\"TextBlob_Polarity\"] = data[\"tweet\"].apply(getPolarity)\n\n  data[\"TextBlob_Analysis\"] = data[\"TextBlob_Polarity\"].apply(getAnalysis)\n  return data",
   "execution_count": 7,
   "outputs": []
  },
  {
   "cell_type": "code",
   "metadata": {
    "tags": [],
    "cell_id": "00034-c9f6ce8a-24dc-4e93-ae46-d30e3415ca18",
    "deepnote_to_be_reexecuted": false,
    "source_hash": "1c3c5fbf",
    "execution_start": 1639232536498,
    "execution_millis": 181,
    "deepnote_cell_type": "code"
   },
   "source": "df = sentiment_analysis(df)\ndf",
   "execution_count": 8,
   "outputs": [
    {
     "output_type": "execute_result",
     "execution_count": 8,
     "data": {
      "application/vnd.deepnote.dataframe.v2+json": {
       "row_count": 105,
       "column_count": 6,
       "columns": [
        {
         "name": "id",
         "dtype": "int64",
         "stats": {
          "unique_count": 94,
          "nan_count": 0,
          "min": "63043",
          "max": "1469317591445524490",
          "histogram": [
           {
            "bin_start": 63043,
            "bin_end": 146931759144609180,
            "count": 60
           },
           {
            "bin_start": 146931759144609180,
            "bin_end": 293863518289155300,
            "count": 0
           },
           {
            "bin_start": 293863518289155300,
            "bin_end": 440795277433701440,
            "count": 0
           },
           {
            "bin_start": 440795277433701440,
            "bin_end": 587727036578247700,
            "count": 0
           },
           {
            "bin_start": 587727036578247700,
            "bin_end": 734658795722793900,
            "count": 3
           },
           {
            "bin_start": 734658795722793900,
            "bin_end": 881590554867339900,
            "count": 6
           },
           {
            "bin_start": 881590554867339900,
            "bin_end": 1028522314011886100,
            "count": 8
           },
           {
            "bin_start": 1028522314011886100,
            "bin_end": 1175454073156432100,
            "count": 8
           },
           {
            "bin_start": 1175454073156432100,
            "bin_end": 1322385832300978200,
            "count": 11
           },
           {
            "bin_start": 1322385832300978200,
            "bin_end": 1469317591445524500,
            "count": 9
           }
          ]
         }
        },
        {
         "name": "username",
         "dtype": "object",
         "stats": {
          "unique_count": 94,
          "nan_count": 0,
          "categories": [
           {
            "name": "SATYAJIT GHOSH ",
            "count": 8
           },
           {
            "name": "Prof. Lee Stott",
            "count": 2
           },
           {
            "name": "92 others",
            "count": 95
           }
          ]
         }
        },
        {
         "name": "tweet",
         "dtype": "object",
         "stats": {
          "unique_count": 90,
          "nan_count": 0,
          "categories": [
           {
            "name": "rt user google play store games coming to windows 1 and 11 next year url url",
            "count": 4
           },
           {
            "name": "rt user we re bringing play games to windows 1 and 11 pretty excited to partner with so many game developers so that you can seam",
            "count": 3
           },
           {
            "name": "88 others",
            "count": 98
           }
          ]
         }
        },
        {
         "name": "TextBlob_Subjectivity",
         "dtype": "float64",
         "stats": {
          "unique_count": 36,
          "nan_count": 0,
          "min": "0.0",
          "max": "1.0",
          "histogram": [
           {
            "bin_start": 0,
            "bin_end": 0.1,
            "count": 42
           },
           {
            "bin_start": 0.1,
            "bin_end": 0.2,
            "count": 1
           },
           {
            "bin_start": 0.2,
            "bin_end": 0.30000000000000004,
            "count": 7
           },
           {
            "bin_start": 0.30000000000000004,
            "bin_end": 0.4,
            "count": 9
           },
           {
            "bin_start": 0.4,
            "bin_end": 0.5,
            "count": 13
           },
           {
            "bin_start": 0.5,
            "bin_end": 0.6000000000000001,
            "count": 13
           },
           {
            "bin_start": 0.6000000000000001,
            "bin_end": 0.7000000000000001,
            "count": 11
           },
           {
            "bin_start": 0.7000000000000001,
            "bin_end": 0.8,
            "count": 5
           },
           {
            "bin_start": 0.8,
            "bin_end": 0.9,
            "count": 1
           },
           {
            "bin_start": 0.9,
            "bin_end": 1,
            "count": 3
           }
          ]
         }
        },
        {
         "name": "TextBlob_Polarity",
         "dtype": "float64",
         "stats": {
          "unique_count": 38,
          "nan_count": 0,
          "min": "-1.0",
          "max": "1.0",
          "histogram": [
           {
            "bin_start": -1,
            "bin_end": -0.8,
            "count": 1
           },
           {
            "bin_start": -0.8,
            "bin_end": -0.6,
            "count": 0
           },
           {
            "bin_start": -0.6,
            "bin_end": -0.3999999999999999,
            "count": 3
           },
           {
            "bin_start": -0.3999999999999999,
            "bin_end": -0.19999999999999996,
            "count": 9
           },
           {
            "bin_start": -0.19999999999999996,
            "bin_end": 0,
            "count": 10
           },
           {
            "bin_start": 0,
            "bin_end": 0.20000000000000018,
            "count": 59
           },
           {
            "bin_start": 0.20000000000000018,
            "bin_end": 0.40000000000000013,
            "count": 10
           },
           {
            "bin_start": 0.40000000000000013,
            "bin_end": 0.6000000000000001,
            "count": 9
           },
           {
            "bin_start": 0.6000000000000001,
            "bin_end": 0.8,
            "count": 2
           },
           {
            "bin_start": 0.8,
            "bin_end": 1,
            "count": 2
           }
          ]
         }
        },
        {
         "name": "TextBlob_Analysis",
         "dtype": "object",
         "stats": {
          "unique_count": 3,
          "nan_count": 0,
          "categories": [
           {
            "name": "Neutral",
            "count": 43
           },
           {
            "name": "Positive",
            "count": 39
           },
           {
            "name": "Negative",
            "count": 23
           }
          ]
         }
        },
        {
         "name": "_deepnote_index_column",
         "dtype": "int64"
        }
       ],
       "rows_top": [
        {
         "id": 60951089,
         "username": "桜木李杏🌸🍲🦊C99_1日目「メ36a」委託/2日目「に35a」",
         "tweet": "rt user we re bringing play games to windows 1 and 11 pretty excited to partner with so many game d…",
         "TextBlob_Subjectivity": 0.6625,
         "TextBlob_Polarity": 0.18125,
         "TextBlob_Analysis": "Positive",
         "_deepnote_index_column": 0
        },
        {
         "id": 1408009628764586000,
         "username": "theolreverendsburner",
         "tweet": "user user my 2 cents do a clean windows 11 installation and just install your chipset and gpu drive…",
         "TextBlob_Subjectivity": 0.7000000000000001,
         "TextBlob_Polarity": 0.3666666666666667,
         "TextBlob_Analysis": "Positive",
         "_deepnote_index_column": 1
        },
        {
         "id": 1082920971114332200,
         "username": "Ricoh eShop UK",
         "tweet": "product the lenovo notebook laptops with new windows 11 are now available on the ricoh eshop for uk…",
         "TextBlob_Subjectivity": 0.42727272727272725,
         "TextBlob_Polarity": 0.2681818181818182,
         "TextBlob_Analysis": "Positive",
         "_deepnote_index_column": 2
        },
        {
         "id": 2198733733,
         "username": "Cleodesktop",
         "tweet": "after dark gray theme for windows 11 get it here url freefire windows11 bts fifa22 url",
         "TextBlob_Subjectivity": 0.4,
         "TextBlob_Polarity": -0.15,
         "TextBlob_Analysis": "Negative",
         "_deepnote_index_column": 3
        },
        {
         "id": 1052557647856189400,
         "username": "Beyte Fyr",
         "tweet": "should i upgrade to windows 11 i m angsty about this",
         "TextBlob_Subjectivity": 0,
         "TextBlob_Polarity": 0,
         "TextBlob_Analysis": "Neutral",
         "_deepnote_index_column": 4
        },
        {
         "id": 741271705419681800,
         "username": "Pureinfotech (feed)",
         "tweet": "pantone color of the year 2 22 theme for windows11 url",
         "TextBlob_Subjectivity": 0,
         "TextBlob_Polarity": 0,
         "TextBlob_Analysis": "Neutral",
         "_deepnote_index_column": 5
        },
        {
         "id": 153375516,
         "username": "Marcus Griffiths",
         "tweet": "rt user limited availability windows 11 ready laptops order now for christmas delivery windows11 ur…",
         "TextBlob_Subjectivity": 0.3214285714285714,
         "TextBlob_Polarity": 0.0642857142857143,
         "TextBlob_Analysis": "Positive",
         "_deepnote_index_column": 6
        },
        {
         "id": 1005087587923419100,
         "username": "いまおか",
         "tweet": "as the availability of new pc processors and new generation windows 11 will drive a replacement boo…",
         "TextBlob_Subjectivity": 0.45454545454545453,
         "TextBlob_Polarity": 0.13636363636363635,
         "TextBlob_Analysis": "Positive",
         "_deepnote_index_column": 7
        },
        {
         "id": 1441080293364879400,
         "username": "Vinay Kishore",
         "tweet": "arggggg everything in windows 11 is getting clicked twice everyone facing the same bug windows fix …",
         "TextBlob_Subjectivity": 0.3625,
         "TextBlob_Polarity": 0.1,
         "TextBlob_Analysis": "Positive",
         "_deepnote_index_column": 8
        },
        {
         "id": 3064146644,
         "username": "SATYAJIT GHOSH ",
         "tweet": "rt user it might not come with a bow on top but your pc will love that shiny new upgrade regardless…",
         "TextBlob_Subjectivity": 0.5181818181818182,
         "TextBlob_Polarity": 0.37878787878787873,
         "TextBlob_Analysis": "Positive",
         "_deepnote_index_column": 9
        },
        {
         "id": 20961162,
         "username": "Sam Bowne",
         "tweet": "the 1 worst things about windows 11 pcmag url",
         "TextBlob_Subjectivity": 1,
         "TextBlob_Polarity": -1,
         "TextBlob_Analysis": "Negative",
         "_deepnote_index_column": 10
        },
        {
         "id": 1384072455929565200,
         "username": "Danielle Matos",
         "tweet": "rt user it might not come with a bow on top but your pc will love that shiny new upgrade regardless…",
         "TextBlob_Subjectivity": 0.5181818181818182,
         "TextBlob_Polarity": 0.37878787878787873,
         "TextBlob_Analysis": "Positive",
         "_deepnote_index_column": 11
        },
        {
         "id": 1292947390215778300,
         "username": "Vandal ❄️",
         "tweet": "user is windows 11 bearable and like functional",
         "TextBlob_Subjectivity": 0,
         "TextBlob_Polarity": 0,
         "TextBlob_Analysis": "Neutral",
         "_deepnote_index_column": 12
        },
        {
         "id": 215833298,
         "username": "Danlie",
         "tweet": "windows 11 on intel core 7th gen url",
         "TextBlob_Subjectivity": 0,
         "TextBlob_Polarity": 0,
         "TextBlob_Analysis": "Neutral",
         "_deepnote_index_column": 13
        },
        {
         "id": 760478434095226900,
         "username": "william mcnellis",
         "tweet": "windows 11 is getting one of windows 1 s most divisive features url",
         "TextBlob_Subjectivity": 0.5,
         "TextBlob_Polarity": 0.5,
         "TextBlob_Analysis": "Positive",
         "_deepnote_index_column": 14
        },
        {
         "id": 95925831,
         "username": "Michael Brown",
         "tweet": "windows 11 and xbox are calling my name in 2 22",
         "TextBlob_Subjectivity": 0,
         "TextBlob_Polarity": 0,
         "TextBlob_Analysis": "Neutral",
         "_deepnote_index_column": 15
        },
        {
         "id": 1168656219474747400,
         "username": "LTT Markov",
         "tweet": "android 11 is better than windows",
         "TextBlob_Subjectivity": 0.5,
         "TextBlob_Polarity": 0.5,
         "TextBlob_Analysis": "Positive",
         "_deepnote_index_column": 16
        },
        {
         "id": 109082290,
         "username": "National Cyber Security",
         "tweet": "top 7 ways to fix firefox not responding on windows 1 and windows 11 firefox chrome microsoftedge u…",
         "TextBlob_Subjectivity": 0.5,
         "TextBlob_Polarity": 0.5,
         "TextBlob_Analysis": "Positive",
         "_deepnote_index_column": 17
        },
        {
         "id": 194297917,
         "username": "Gregory D. Evans",
         "tweet": "top 7 ways to fix firefox not responding on windows 1 and windows 11 firefox chrome microsoftedge u…",
         "TextBlob_Subjectivity": 0.5,
         "TextBlob_Polarity": 0.5,
         "TextBlob_Analysis": "Positive",
         "_deepnote_index_column": 18
        },
        {
         "id": 1239549226025193500,
         "username": "Mahmoud👨🏻‍💻",
         "tweet": "windows 11 is the worst so far it has unbelievably bugs slowness and critical issues i m reinstalli…",
         "TextBlob_Subjectivity": 0.95,
         "TextBlob_Polarity": -0.2875,
         "TextBlob_Analysis": "Negative",
         "_deepnote_index_column": 19
        },
        {
         "id": 546063993,
         "username": "First Column - IT",
         "tweet": "how to make your chrome browser look like windows 11 url url",
         "TextBlob_Subjectivity": 0,
         "TextBlob_Polarity": 0,
         "TextBlob_Analysis": "Neutral",
         "_deepnote_index_column": 20
        },
        {
         "id": 3064146644,
         "username": "SATYAJIT GHOSH ",
         "tweet": "rt user user i just like bloomberry it s different it tastes good like user 11",
         "TextBlob_Subjectivity": 0.6000000000000001,
         "TextBlob_Polarity": 0.35,
         "TextBlob_Analysis": "Positive",
         "_deepnote_index_column": 21
        },
        {
         "id": 1021740965407600600,
         "username": "JD is studying",
         "tweet": "user i just like bloomberry it s different it tastes good like user 11",
         "TextBlob_Subjectivity": 0.6000000000000001,
         "TextBlob_Polarity": 0.35,
         "TextBlob_Analysis": "Positive",
         "_deepnote_index_column": 22
        },
        {
         "id": 620295058,
         "username": "Ezefidelity",
         "tweet": "top 7 ways to fix firefox not responding on windows 1 and windows 11 url",
         "TextBlob_Subjectivity": 0.5,
         "TextBlob_Polarity": 0.5,
         "TextBlob_Analysis": "Positive",
         "_deepnote_index_column": 23
        },
        {
         "id": 92008385,
         "username": "Prof. Lee Stott",
         "tweet": "rt user google is bringing google play games to windows and you wont need windows 11 url url",
         "TextBlob_Subjectivity": 0,
         "TextBlob_Polarity": 0,
         "TextBlob_Analysis": "Neutral",
         "_deepnote_index_column": 24
        },
        {
         "id": 3064146644,
         "username": "SATYAJIT GHOSH ",
         "tweet": "rt user good news microsoft is accelerating the windows 11 rollout for eligible devices url",
         "TextBlob_Subjectivity": 0.6000000000000001,
         "TextBlob_Polarity": 0.7,
         "TextBlob_Analysis": "Positive",
         "_deepnote_index_column": 25
        },
        {
         "id": 92008385,
         "username": "Prof. Lee Stott",
         "tweet": "rt user microsoft is adding a video encoding feature directly into directx 12 on windows 11 it will…",
         "TextBlob_Subjectivity": 0.4,
         "TextBlob_Polarity": 0.1,
         "TextBlob_Analysis": "Positive",
         "_deepnote_index_column": 26
        },
        {
         "id": 1264655569,
         "username": "XBASE Technologies",
         "tweet": "good news microsoft is accelerating the windows 11 rollout for eligible devices url",
         "TextBlob_Subjectivity": 0.6000000000000001,
         "TextBlob_Polarity": 0.7,
         "TextBlob_Analysis": "Positive",
         "_deepnote_index_column": 27
        },
        {
         "id": 63043,
         "username": "MUO",
         "tweet": "how to stop automatic updates on windows 11 url",
         "TextBlob_Subjectivity": 0,
         "TextBlob_Polarity": 0,
         "TextBlob_Analysis": "Neutral",
         "_deepnote_index_column": 28
        },
        {
         "id": 4026513973,
         "username": "IBITS",
         "tweet": "be careful if you upgrade to windows 11 and then change your mind you only have 1 days to revert ba…",
         "TextBlob_Subjectivity": 0.6666666666666666,
         "TextBlob_Polarity": -0.03333333333333333,
         "TextBlob_Analysis": "Negative",
         "_deepnote_index_column": 29
        },
        {
         "id": 3064146644,
         "username": "SATYAJIT GHOSH ",
         "tweet": "rt user microsoft has partnered with user to incorporate the 2 22 color of the year into our produc…",
         "TextBlob_Subjectivity": 0,
         "TextBlob_Polarity": 0,
         "TextBlob_Analysis": "Neutral",
         "_deepnote_index_column": 30
        },
        {
         "id": 852845856319565800,
         "username": "Kevin John Banks",
         "tweet": "the best productivity features you should use in windows 11 url",
         "TextBlob_Subjectivity": 0.3,
         "TextBlob_Polarity": 1,
         "TextBlob_Analysis": "Positive",
         "_deepnote_index_column": 31
        },
        {
         "id": 3303759385,
         "username": "Gyana",
         "tweet": "rt user microsoft has partnered with user to incorporate the 2 22 color of the year into our produc…",
         "TextBlob_Subjectivity": 0,
         "TextBlob_Polarity": 0,
         "TextBlob_Analysis": "Neutral",
         "_deepnote_index_column": 32
        },
        {
         "id": 612076511,
         "username": "Microsoft Surface",
         "tweet": "user there s so much to love with windows 11 which of the new features has been standing out to you",
         "TextBlob_Subjectivity": 0.5272727272727272,
         "TextBlob_Polarity": 0.3181818181818182,
         "TextBlob_Analysis": "Positive",
         "_deepnote_index_column": 33
        },
        {
         "id": 1229759588,
         "username": "Honky Tonk Chicken Man Nacho Libre 🏒😎🇨🇦",
         "tweet": "user upgraded to windows 11 on my new laptop",
         "TextBlob_Subjectivity": 0.45454545454545453,
         "TextBlob_Polarity": 0.13636363636363635,
         "TextBlob_Analysis": "Positive",
         "_deepnote_index_column": 34
        },
        {
         "id": 3064146644,
         "username": "SATYAJIT GHOSH ",
         "tweet": "rt user microsoft is bringing back the weather widget on the windows 11 taskbar url",
         "TextBlob_Subjectivity": 0,
         "TextBlob_Polarity": 0,
         "TextBlob_Analysis": "Neutral",
         "_deepnote_index_column": 35
        },
        {
         "id": 1381392402687090700,
         "username": "Ahmed Abdel Latif",
         "tweet": "rt user google is bringing google play games to windows and you wont need windows 11 url url",
         "TextBlob_Subjectivity": 0,
         "TextBlob_Polarity": 0,
         "TextBlob_Analysis": "Neutral",
         "_deepnote_index_column": 36
        },
        {
         "id": 3360886175,
         "username": "Trinico Cloud",
         "tweet": "microsoft is bringing back the weather widget on the windows 11 taskbar url",
         "TextBlob_Subjectivity": 0,
         "TextBlob_Polarity": 0,
         "TextBlob_Analysis": "Neutral",
         "_deepnote_index_column": 37
        },
        {
         "id": 399985113,
         "username": "Dimitri Lambrecht",
         "tweet": "in the core of this insane feature is 3 yrs old technology of lernoutandhauspie microsoft goes hand…",
         "TextBlob_Subjectivity": 0.6666666666666666,
         "TextBlob_Polarity": -0.16666666666666666,
         "TextBlob_Analysis": "Negative",
         "_deepnote_index_column": 38
        },
        {
         "id": 1251493696740229000,
         "username": "TecniAsistencia.es",
         "tweet": "notebook hp revolve 81 g3 11 touch intel core i7 56 u 2 6 ghz 8 gb de ram ssd de 24 gb windows 1 pr…",
         "TextBlob_Subjectivity": 0,
         "TextBlob_Polarity": 0,
         "TextBlob_Analysis": "Neutral",
         "_deepnote_index_column": 39
        },
        {
         "id": 3064146644,
         "username": "SATYAJIT GHOSH ",
         "tweet": "rt user android 12 is like when microsoft released windows 8 with the metro ui it s flat bland diff…",
         "TextBlob_Subjectivity": 0.48958333333333337,
         "TextBlob_Polarity": -0.17291666666666666,
         "TextBlob_Analysis": "Negative",
         "_deepnote_index_column": 40
        },
        {
         "id": 26977067,
         "username": "Rose Sana",
         "tweet": "google play store games coming to windows 1 and 11 next year url url",
         "TextBlob_Subjectivity": 0,
         "TextBlob_Polarity": 0,
         "TextBlob_Analysis": "Neutral",
         "_deepnote_index_column": 41
        },
        {
         "id": 77179485,
         "username": "Sam Afshari 🇪🇺",
         "tweet": "even moving windows around lags on windows 11 on a maxed out surface book 3",
         "TextBlob_Subjectivity": 0,
         "TextBlob_Polarity": 0,
         "TextBlob_Analysis": "Neutral",
         "_deepnote_index_column": 42
        },
        {
         "id": 1341063807154745300,
         "username": "ash/declan 📀🎵🎮",
         "tweet": "user i ve read it might be using wayland but in any case yeah on windows 11 you can just install gu…",
         "TextBlob_Subjectivity": 0,
         "TextBlob_Polarity": 0,
         "TextBlob_Analysis": "Neutral",
         "_deepnote_index_column": 43
        },
        {
         "id": 3433815723,
         "username": "WiseGuys",
         "tweet": "rt user hands on with windows 11 s redesigned notepad app with dark mode url windows11 url",
         "TextBlob_Subjectivity": 0.4,
         "TextBlob_Polarity": -0.15,
         "TextBlob_Analysis": "Negative",
         "_deepnote_index_column": 44
        },
        {
         "id": 61975633,
         "username": "Pierce Arner",
         "tweet": "android 12 is like when microsoft released windows 8 with the metro ui it s flat bland difficult to…",
         "TextBlob_Subjectivity": 0.6527777777777778,
         "TextBlob_Polarity": -0.23055555555555554,
         "TextBlob_Analysis": "Negative",
         "_deepnote_index_column": 45
        },
        {
         "id": 1284414997599117300,
         "username": "nightplu",
         "tweet": "user user are you upgrade to windows 11",
         "TextBlob_Subjectivity": 0,
         "TextBlob_Polarity": 0,
         "TextBlob_Analysis": "Neutral",
         "_deepnote_index_column": 46
        },
        {
         "id": 77179485,
         "username": "Sam Afshari 🇪🇺",
         "tweet": "downgraded from user 11 to windows 1 11 is too slow inefficient unpolished and buggy",
         "TextBlob_Subjectivity": 0.39999999999999997,
         "TextBlob_Polarity": -0.30000000000000004,
         "TextBlob_Analysis": "Negative",
         "_deepnote_index_column": 47
        },
        {
         "id": 743579496574492700,
         "username": "Lorenzo D'Annunzio",
         "tweet": "rt user microsoft admits another windows 11 bug is slowing down pcs but a fix is coming url windows…",
         "TextBlob_Subjectivity": 0.2888888888888889,
         "TextBlob_Polarity": -0.15555555555555559,
         "TextBlob_Analysis": "Negative",
         "_deepnote_index_column": 48
        },
        {
         "id": 2790948541,
         "username": "Tech Industry Briefly",
         "tweet": "google play store games coming to windows 1 and 11 next year url during this year s game aw url",
         "TextBlob_Subjectivity": 0.2,
         "TextBlob_Polarity": -0.2,
         "TextBlob_Analysis": "Negative",
         "_deepnote_index_column": 49
        },
        {
         "id": 968617616762916900,
         "username": "The Bluewolf",
         "tweet": "rt user take that windows 11 and defender url",
         "TextBlob_Subjectivity": 0,
         "TextBlob_Polarity": 0,
         "TextBlob_Analysis": "Neutral",
         "_deepnote_index_column": 50
        },
        {
         "id": 2480152112,
         "username": "Hawkdive",
         "tweet": "annoyed by fix low microphone volume issues in windows 11 lets see what can be done to fix the issu…",
         "TextBlob_Subjectivity": 0.55,
         "TextBlob_Polarity": -0.2,
         "TextBlob_Analysis": "Negative",
         "_deepnote_index_column": 51
        },
        {
         "id": 725719639175516200,
         "username": "🌸 サッチ 🌸",
         "tweet": "windows 11 i abhor you",
         "TextBlob_Subjectivity": 0,
         "TextBlob_Polarity": 0,
         "TextBlob_Analysis": "Neutral",
         "_deepnote_index_column": 52
        },
        {
         "id": 4143203369,
         "username": "Karl Heinz Häsliprinz",
         "tweet": "user there was a short dip when ssds first entered the market but windows 11 seems capable of retur…",
         "TextBlob_Subjectivity": 0.3444444444444444,
         "TextBlob_Polarity": 0.15,
         "TextBlob_Analysis": "Positive",
         "_deepnote_index_column": 53
        },
        {
         "id": 2438099425,
         "username": "総理大臣@あんぽんたん",
         "tweet": "rt user look at this adorable airbnb i found so spacious and so many windows consider it booked som…",
         "TextBlob_Subjectivity": 0.75,
         "TextBlob_Polarity": 0.5,
         "TextBlob_Analysis": "Positive",
         "_deepnote_index_column": 54
        },
        {
         "id": 113231054,
         "username": "J • P • M • T",
         "tweet": "rt user google play store games coming to windows 1 and 11 next year url url",
         "TextBlob_Subjectivity": 0,
         "TextBlob_Polarity": 0,
         "TextBlob_Analysis": "Neutral",
         "_deepnote_index_column": 55
        },
        {
         "id": 726420862866346000,
         "username": "taufiq #GrazieVale",
         "tweet": "windows 11 ice cream",
         "TextBlob_Subjectivity": 0,
         "TextBlob_Polarity": 0,
         "TextBlob_Analysis": "Neutral",
         "_deepnote_index_column": 56
        },
        {
         "id": 3816550932,
         "username": "Reciprocal Technologies",
         "tweet": "how to make your chrome browser look like windows 11 url url",
         "TextBlob_Subjectivity": 0,
         "TextBlob_Polarity": 0,
         "TextBlob_Analysis": "Neutral",
         "_deepnote_index_column": 57
        },
        {
         "id": 56799145,
         "username": "Lonely This Chris-mas 🎅🏻",
         "tweet": "of course me being me im going to try and upgrade it to windows 11 now",
         "TextBlob_Subjectivity": 0,
         "TextBlob_Polarity": 0,
         "TextBlob_Analysis": "Neutral",
         "_deepnote_index_column": 58
        },
        {
         "id": 1433881,
         "username": "Zach Petersen",
         "tweet": "upgraded to windows 11 yesterday first time i ve been completely meh about a windows upgrade lookin…",
         "TextBlob_Subjectivity": 0.3666666666666667,
         "TextBlob_Polarity": 0.175,
         "TextBlob_Analysis": "Positive",
         "_deepnote_index_column": 59
        },
        {
         "id": 1142416848044068900,
         "username": "Katie, In Search of the Way",
         "tweet": "has anyone updated to windows 11 how are you finding it if so",
         "TextBlob_Subjectivity": 0,
         "TextBlob_Polarity": 0,
         "TextBlob_Analysis": "Neutral",
         "_deepnote_index_column": 60
        },
        {
         "id": 2858012136,
         "username": "Latest Phones & Gadgets",
         "tweet": "google play store games coming to windows 1 and 11 nextyear url",
         "TextBlob_Subjectivity": 0,
         "TextBlob_Polarity": 0,
         "TextBlob_Analysis": "Neutral",
         "_deepnote_index_column": 61
        },
        {
         "id": 314653455,
         "username": "xbit ops",
         "tweet": "rt user id love to see a windows 3 11 pc minia micro game console think nes mini shaped like a 386 …",
         "TextBlob_Subjectivity": 0.5166666666666667,
         "TextBlob_Polarity": 0.15,
         "TextBlob_Analysis": "Positive",
         "_deepnote_index_column": 62
        },
        {
         "id": 1114995429958144000,
         "username": "schwa 🦎👒",
         "tweet": "can anyone help me figure out why my laptop is slow and how to fix it ive upgraded to windows 11 tr…",
         "TextBlob_Subjectivity": 0.39999999999999997,
         "TextBlob_Polarity": -0.30000000000000004,
         "TextBlob_Analysis": "Negative",
         "_deepnote_index_column": 63
        },
        {
         "id": 19720653,
         "username": "Tech Advisor",
         "tweet": "android games will arrive on windows 11 next year url via user",
         "TextBlob_Subjectivity": 0,
         "TextBlob_Polarity": 0,
         "TextBlob_Analysis": "Neutral",
         "_deepnote_index_column": 64
        },
        {
         "id": 1312893851191959600,
         "username": "euge del carril",
         "tweet": "rt user user user user user user user user user user user",
         "TextBlob_Subjectivity": 0,
         "TextBlob_Polarity": 0,
         "TextBlob_Analysis": "Neutral",
         "_deepnote_index_column": 65
        },
        {
         "id": 760678325685784600,
         "username": "Aaron Brighton",
         "tweet": "user yah there used to be one that every night at 11 3 pm on the dot would come roaring down the st…",
         "TextBlob_Subjectivity": 0.2888888888888889,
         "TextBlob_Polarity": -0.15555555555555559,
         "TextBlob_Analysis": "Negative",
         "_deepnote_index_column": 66
        },
        {
         "id": 5889072,
         "username": "Wccftech",
         "tweet": "dont miss the double sale at keysfan buy office and get windows 1 11 for free url url",
         "TextBlob_Subjectivity": 0.4,
         "TextBlob_Polarity": 0.2,
         "TextBlob_Analysis": "Positive",
         "_deepnote_index_column": 67
        },
        {
         "id": 1166012424215883800,
         "username": "Kruti",
         "tweet": "rt user google is bringing google play games to windows not via the new android in windows 11 thing…",
         "TextBlob_Subjectivity": 0.7272727272727273,
         "TextBlob_Polarity": 0.36818181818181817,
         "TextBlob_Analysis": "Positive",
         "_deepnote_index_column": 68
        },
        {
         "id": 3064146644,
         "username": "SATYAJIT GHOSH ",
         "tweet": "rt user id love to see a windows 3 11 pc minia micro game console think nes mini shaped like a 386 …",
         "TextBlob_Subjectivity": 0.5166666666666667,
         "TextBlob_Polarity": 0.15,
         "TextBlob_Analysis": "Positive",
         "_deepnote_index_column": 69
        },
        {
         "id": 19948217,
         "username": "Benj Edwards",
         "tweet": "rt user id love to see a windows 3 11 pc minia micro game console think nes mini shaped like a 386 …",
         "TextBlob_Subjectivity": 0.5166666666666667,
         "TextBlob_Polarity": 0.15,
         "TextBlob_Analysis": "Positive",
         "_deepnote_index_column": 70
        },
        {
         "id": 595292451,
         "username": "Tero Alhonen",
         "tweet": "keyboard shortcuts in windows 11 url",
         "TextBlob_Subjectivity": 0,
         "TextBlob_Polarity": 0,
         "TextBlob_Analysis": "Neutral",
         "_deepnote_index_column": 71
        },
        {
         "id": 3041049114,
         "username": "Peter Kenneally",
         "tweet": "how to make your chrome browser look like windows 11 url url",
         "TextBlob_Subjectivity": 0,
         "TextBlob_Polarity": 0,
         "TextBlob_Analysis": "Neutral",
         "_deepnote_index_column": 72
        },
        {
         "id": 721544046653493200,
         "username": "RICK RIOS DOMÍNGUEZ",
         "tweet": "user user some people have reported that doesnt work for them but thats nice i guess i know theyve …",
         "TextBlob_Subjectivity": 1,
         "TextBlob_Polarity": 0.6,
         "TextBlob_Analysis": "Positive",
         "_deepnote_index_column": 73
        },
        {
         "id": 1304550008,
         "username": "Tetsuo",
         "tweet": "rt user google play store games coming to windows 1 and 11 next year url url",
         "TextBlob_Subjectivity": 0,
         "TextBlob_Polarity": 0,
         "TextBlob_Analysis": "Neutral",
         "_deepnote_index_column": 74
        },
        {
         "id": 1136014784569258000,
         "username": "🌴 ʙᴀʀʙᴀᴅᴏꜱ ꜱʟɪᴍ 🌴",
         "tweet": "just got windows 11 a little weird but i kinda dig it wish version of mac os lol",
         "TextBlob_Subjectivity": 0.7333333333333334,
         "TextBlob_Polarity": 0.03750000000000001,
         "TextBlob_Analysis": "Positive",
         "_deepnote_index_column": 75
        },
        {
         "id": 339762824,
         "username": "Ed Tittel",
         "tweet": "latest windows11 dev channel build 22518 can use ms spotlight for desktop backgrounds cool wimvp url",
         "TextBlob_Subjectivity": 0.775,
         "TextBlob_Polarity": 0.425,
         "TextBlob_Analysis": "Positive",
         "_deepnote_index_column": 76
        },
        {
         "id": 2798993669,
         "username": "BlackHand",
         "tweet": "rt user google play store games coming to windows 1 and 11 next year url url",
         "TextBlob_Subjectivity": 0,
         "TextBlob_Polarity": 0,
         "TextBlob_Analysis": "Neutral",
         "_deepnote_index_column": 77
        },
        {
         "id": 1435069887366455300,
         "username": "Owen Fitzgerald",
         "tweet": "user hopefully it s not run on windows 11",
         "TextBlob_Subjectivity": 0,
         "TextBlob_Polarity": 0,
         "TextBlob_Analysis": "Neutral",
         "_deepnote_index_column": 78
        },
        {
         "id": 1190819764127568000,
         "username": "Lauren \"Vote blue to keep out you know who\" McCoy",
         "tweet": "user but as i said before this came out windows 11 vista pre sp1 same damn thing there too except u…",
         "TextBlob_Subjectivity": 0.125,
         "TextBlob_Polarity": 0,
         "TextBlob_Analysis": "Neutral",
         "_deepnote_index_column": 79
        },
        {
         "id": 209038505,
         "username": "USMAN YUSUF™",
         "tweet": "google will bring android games to windows 1 and 11 next year url via user",
         "TextBlob_Subjectivity": 0,
         "TextBlob_Polarity": 0,
         "TextBlob_Analysis": "Neutral",
         "_deepnote_index_column": 80
        },
        {
         "id": 1190819764127568000,
         "username": "Lauren \"Vote blue to keep out you know who\" McCoy",
         "tweet": "user good keep the improvements coming when i first installed windows 11 arm on my mac m1 it was ve…",
         "TextBlob_Subjectivity": 0.4666666666666667,
         "TextBlob_Polarity": 0.475,
         "TextBlob_Analysis": "Positive",
         "_deepnote_index_column": 81
        },
        {
         "id": 899710030710284300,
         "username": "yo🎄 #advyout",
         "tweet": "user no te instales windows 11",
         "TextBlob_Subjectivity": 0,
         "TextBlob_Polarity": 0,
         "TextBlob_Analysis": "Neutral",
         "_deepnote_index_column": 82
        },
        {
         "id": 1080116711683178500,
         "username": "ǝWɹǝๅɐǝꓤǝɥꓕ 🍥",
         "tweet": "rt user microsoft acknowledges slow windows 11 nvme ssd write speeds issue is working on a fix url …",
         "TextBlob_Subjectivity": 0.39999999999999997,
         "TextBlob_Polarity": -0.30000000000000004,
         "TextBlob_Analysis": "Negative",
         "_deepnote_index_column": 83
        },
        {
         "id": 1251067832667828200,
         "username": "bunga tidur jual iPhone cek pinned",
         "tweet": "lepi minta update windows 11 teroos tp takoot failed ueueue",
         "TextBlob_Subjectivity": 0.3,
         "TextBlob_Polarity": -0.5,
         "TextBlob_Analysis": "Negative",
         "_deepnote_index_column": 84
        },
        {
         "id": 819821216764727300,
         "username": "Iryna.Fesenko",
         "tweet": "new windows11 build tests voice access spotlight backgrounds by user url",
         "TextBlob_Subjectivity": 0.45454545454545453,
         "TextBlob_Polarity": 0.13636363636363635,
         "TextBlob_Analysis": "Positive",
         "_deepnote_index_column": 85
        },
        {
         "id": 1013927542972211200,
         "username": "Mom Giggles",
         "tweet": "rt user we explored for the first time whether parenting moderated the association between attentio…",
         "TextBlob_Subjectivity": 0.3333333333333333,
         "TextBlob_Polarity": 0.25,
         "TextBlob_Analysis": "Positive",
         "_deepnote_index_column": 86
        },
        {
         "id": 932373490849628200,
         "username": "amy iverson",
         "tweet": "user i came home late like 11 didnt sleep til midnight so i bet she did come home drunk and wanted …",
         "TextBlob_Subjectivity": 0.8,
         "TextBlob_Polarity": -0.4,
         "TextBlob_Analysis": "Negative",
         "_deepnote_index_column": 87
        },
        {
         "id": 1394657618145136600,
         "username": "O. Lakshmi Tanmay Teja",
         "tweet": "rt user google play store games coming to windows 1 and 11 next year url url",
         "TextBlob_Subjectivity": 0,
         "TextBlob_Polarity": 0,
         "TextBlob_Analysis": "Neutral",
         "_deepnote_index_column": 88
        },
        {
         "id": 30092983,
         "username": "Zach Bigalke, ABD",
         "tweet": "user and then wondering why my computer is slow even though i have 11 different windows minimized t…",
         "TextBlob_Subjectivity": 0.5,
         "TextBlob_Polarity": -0.15000000000000002,
         "TextBlob_Analysis": "Negative",
         "_deepnote_index_column": 89
        },
        {
         "id": 56784509,
         "username": "Mark Stockman",
         "tweet": "oof windows 11 bsod url",
         "TextBlob_Subjectivity": 0,
         "TextBlob_Polarity": 0,
         "TextBlob_Analysis": "Neutral",
         "_deepnote_index_column": 90
        },
        {
         "id": 1468984082734452700,
         "username": "Crispy",
         "tweet": "rt user 15 rts and i ll make the first windows 11 iso",
         "TextBlob_Subjectivity": 0.3333333333333333,
         "TextBlob_Polarity": 0.25,
         "TextBlob_Analysis": "Positive",
         "_deepnote_index_column": 91
        },
        {
         "id": 913207395500810200,
         "username": "a1dnoah-b1ue",
         "tweet": "rt user we re bringing play games to windows 1 and 11 pretty excited to partner with so many game d…",
         "TextBlob_Subjectivity": 0.6625,
         "TextBlob_Polarity": 0.18125,
         "TextBlob_Analysis": "Positive",
         "_deepnote_index_column": 92
        },
        {
         "id": 1893719730,
         "username": "todayheadline",
         "tweet": "the best productivity features you should use in windows11 url",
         "TextBlob_Subjectivity": 0.3,
         "TextBlob_Polarity": 1,
         "TextBlob_Analysis": "Positive",
         "_deepnote_index_column": 93
        },
        {
         "id": 3422367497,
         "username": "Artificial Geek",
         "tweet": "windows 11 is apparently impacting the speed of storage drives nvms ssds hard drive and microsoft h…",
         "TextBlob_Subjectivity": 0.6305555555555555,
         "TextBlob_Polarity": -0.08055555555555556,
         "TextBlob_Analysis": "Negative",
         "_deepnote_index_column": 94
        },
        {
         "id": 2930156653,
         "username": "Kim Muro",
         "tweet": "rt user microsoft is making windows 11 less annoying deeplearning iot bigdata cc user url h",
         "TextBlob_Subjectivity": 0.48333333333333334,
         "TextBlob_Polarity": -0.48333333333333334,
         "TextBlob_Analysis": "Negative",
         "_deepnote_index_column": 95
        },
        {
         "id": 1227376754450477000,
         "username": "Gideon Steward",
         "tweet": "rt user google play is coming to windows 1 and 11 next year as hell freezes over googleplay windows…",
         "TextBlob_Subjectivity": 0,
         "TextBlob_Polarity": 0,
         "TextBlob_Analysis": "Neutral",
         "_deepnote_index_column": 96
        },
        {
         "id": 1251493696740229000,
         "username": "TecniAsistencia.es",
         "tweet": "notebook hp revolve 81 g3 11 touch intel core i7 56 u 2 6 ghz 8 gb de ram ssd de 24 gb windows 1 pr…",
         "TextBlob_Subjectivity": 0,
         "TextBlob_Polarity": 0,
         "TextBlob_Analysis": "Neutral",
         "_deepnote_index_column": 97
        },
        {
         "id": 178250791,
         "username": "Steven D",
         "tweet": "rt user microsoft admits another windows 11 bug is slowing down pcs but a fix is coming url windows…",
         "TextBlob_Subjectivity": 0.2888888888888889,
         "TextBlob_Polarity": -0.15555555555555559,
         "TextBlob_Analysis": "Negative",
         "_deepnote_index_column": 98
        },
        {
         "id": 1007329123264389100,
         "username": "Generation IX Technologies",
         "tweet": "windows 11 support in los angeles url url",
         "TextBlob_Subjectivity": 0,
         "TextBlob_Polarity": 0,
         "TextBlob_Analysis": "Neutral",
         "_deepnote_index_column": 99
        },
        {
         "id": 2281129274,
         "username": "Mehmet",
         "tweet": "windows 11 features 1 color filters windows11 colorfilters windows11features url",
         "TextBlob_Subjectivity": 0,
         "TextBlob_Polarity": 0,
         "TextBlob_Analysis": "Neutral",
         "_deepnote_index_column": 100
        },
        {
         "id": 2571317438,
         "username": "鳥麦康人(とりむぎやすと)",
         "tweet": "rt user we re bringing play games to windows 1 and 11 pretty excited to partner with so many game d…",
         "TextBlob_Subjectivity": 0.6625,
         "TextBlob_Polarity": 0.18125,
         "TextBlob_Analysis": "Positive",
         "_deepnote_index_column": 101
        },
        {
         "id": 1274775491006922800,
         "username": "Ash Collins 🏴󠁧󠁢󠁷󠁬󠁳󠁿",
         "tweet": "so i had a look at windows 11 the other day and uh why is microsoft trying to hard to make it look …",
         "TextBlob_Subjectivity": 0.4583333333333333,
         "TextBlob_Polarity": -0.20833333333333334,
         "TextBlob_Analysis": "Negative",
         "_deepnote_index_column": 102
        },
        {
         "id": 3064146644,
         "username": "SATYAJIT GHOSH ",
         "tweet": "rt user so i had a look at windows 11 the other day and uh why is microsoft trying to hard to make …",
         "TextBlob_Subjectivity": 0.4583333333333333,
         "TextBlob_Polarity": -0.20833333333333334,
         "TextBlob_Analysis": "Negative",
         "_deepnote_index_column": 103
        },
        {
         "id": 1469317591445524500,
         "username": "Soumyashree Biswal",
         "tweet": "when you don t wanna risk downloading windows 11 prematurely so you tinker with your windows 1 o s …",
         "TextBlob_Subjectivity": 0,
         "TextBlob_Polarity": 0,
         "TextBlob_Analysis": "Neutral",
         "_deepnote_index_column": 104
        }
       ],
       "rows_bottom": null
      },
      "text/plain": "                      id                          username  \\\n0               60951089  桜木李杏🌸🍲🦊C99_1日目「メ36a」委託/2日目「に35a」   \n1    1408009628764585984              theolreverendsburner   \n2    1082920971114332160                    Ricoh eShop UK   \n3             2198733733                       Cleodesktop   \n4    1052557647856189441                         Beyte Fyr   \n..                   ...                               ...   \n100           2281129274                            Mehmet   \n101           2571317438                     鳥麦康人(とりむぎやすと)   \n102  1274775491006922752               Ash Collins 🏴󠁧󠁢󠁷󠁬󠁳󠁿   \n103           3064146644                  SATYAJIT GHOSH    \n104  1469317591445524490                Soumyashree Biswal   \n\n                                                 tweet  TextBlob_Subjectivity  \\\n0    rt user we re bringing play games to windows 1...               0.662500   \n1    user user my 2 cents do a clean windows 11 ins...               0.700000   \n2    product the lenovo notebook laptops with new w...               0.427273   \n3    after dark gray theme for windows 11 get it he...               0.400000   \n4    should i upgrade to windows 11 i m angsty abou...               0.000000   \n..                                                 ...                    ...   \n100  windows 11 features 1 color filters windows11 ...               0.000000   \n101  rt user we re bringing play games to windows 1...               0.662500   \n102  so i had a look at windows 11 the other day an...               0.458333   \n103  rt user so i had a look at windows 11 the othe...               0.458333   \n104  when you don t wanna risk downloading windows ...               0.000000   \n\n     TextBlob_Polarity TextBlob_Analysis  \n0             0.181250          Positive  \n1             0.366667          Positive  \n2             0.268182          Positive  \n3            -0.150000          Negative  \n4             0.000000           Neutral  \n..                 ...               ...  \n100           0.000000           Neutral  \n101           0.181250          Positive  \n102          -0.208333          Negative  \n103          -0.208333          Negative  \n104           0.000000           Neutral  \n\n[105 rows x 6 columns]",
      "text/html": "<div>\n<style scoped>\n    .dataframe tbody tr th:only-of-type {\n        vertical-align: middle;\n    }\n\n    .dataframe tbody tr th {\n        vertical-align: top;\n    }\n\n    .dataframe thead th {\n        text-align: right;\n    }\n</style>\n<table border=\"1\" class=\"dataframe\">\n  <thead>\n    <tr style=\"text-align: right;\">\n      <th></th>\n      <th>id</th>\n      <th>username</th>\n      <th>tweet</th>\n      <th>TextBlob_Subjectivity</th>\n      <th>TextBlob_Polarity</th>\n      <th>TextBlob_Analysis</th>\n    </tr>\n  </thead>\n  <tbody>\n    <tr>\n      <th>0</th>\n      <td>60951089</td>\n      <td>桜木李杏🌸🍲🦊C99_1日目「メ36a」委託/2日目「に35a」</td>\n      <td>rt user we re bringing play games to windows 1...</td>\n      <td>0.662500</td>\n      <td>0.181250</td>\n      <td>Positive</td>\n    </tr>\n    <tr>\n      <th>1</th>\n      <td>1408009628764585984</td>\n      <td>theolreverendsburner</td>\n      <td>user user my 2 cents do a clean windows 11 ins...</td>\n      <td>0.700000</td>\n      <td>0.366667</td>\n      <td>Positive</td>\n    </tr>\n    <tr>\n      <th>2</th>\n      <td>1082920971114332160</td>\n      <td>Ricoh eShop UK</td>\n      <td>product the lenovo notebook laptops with new w...</td>\n      <td>0.427273</td>\n      <td>0.268182</td>\n      <td>Positive</td>\n    </tr>\n    <tr>\n      <th>3</th>\n      <td>2198733733</td>\n      <td>Cleodesktop</td>\n      <td>after dark gray theme for windows 11 get it he...</td>\n      <td>0.400000</td>\n      <td>-0.150000</td>\n      <td>Negative</td>\n    </tr>\n    <tr>\n      <th>4</th>\n      <td>1052557647856189441</td>\n      <td>Beyte Fyr</td>\n      <td>should i upgrade to windows 11 i m angsty abou...</td>\n      <td>0.000000</td>\n      <td>0.000000</td>\n      <td>Neutral</td>\n    </tr>\n    <tr>\n      <th>...</th>\n      <td>...</td>\n      <td>...</td>\n      <td>...</td>\n      <td>...</td>\n      <td>...</td>\n      <td>...</td>\n    </tr>\n    <tr>\n      <th>100</th>\n      <td>2281129274</td>\n      <td>Mehmet</td>\n      <td>windows 11 features 1 color filters windows11 ...</td>\n      <td>0.000000</td>\n      <td>0.000000</td>\n      <td>Neutral</td>\n    </tr>\n    <tr>\n      <th>101</th>\n      <td>2571317438</td>\n      <td>鳥麦康人(とりむぎやすと)</td>\n      <td>rt user we re bringing play games to windows 1...</td>\n      <td>0.662500</td>\n      <td>0.181250</td>\n      <td>Positive</td>\n    </tr>\n    <tr>\n      <th>102</th>\n      <td>1274775491006922752</td>\n      <td>Ash Collins 🏴󠁧󠁢󠁷󠁬󠁳󠁿</td>\n      <td>so i had a look at windows 11 the other day an...</td>\n      <td>0.458333</td>\n      <td>-0.208333</td>\n      <td>Negative</td>\n    </tr>\n    <tr>\n      <th>103</th>\n      <td>3064146644</td>\n      <td>SATYAJIT GHOSH </td>\n      <td>rt user so i had a look at windows 11 the othe...</td>\n      <td>0.458333</td>\n      <td>-0.208333</td>\n      <td>Negative</td>\n    </tr>\n    <tr>\n      <th>104</th>\n      <td>1469317591445524490</td>\n      <td>Soumyashree Biswal</td>\n      <td>when you don t wanna risk downloading windows ...</td>\n      <td>0.000000</td>\n      <td>0.000000</td>\n      <td>Neutral</td>\n    </tr>\n  </tbody>\n</table>\n<p>105 rows × 6 columns</p>\n</div>"
     },
     "metadata": {}
    }
   ]
  },
  {
   "cell_type": "markdown",
   "source": "### 7.3.2. Get Most Frequent 20 words from Tweet",
   "metadata": {
    "tags": [],
    "cell_id": "00035-b2233e91-ae14-4860-8869-ade56faf264a",
    "deepnote_cell_type": "markdown"
   }
  },
  {
   "cell_type": "code",
   "metadata": {
    "tags": [],
    "cell_id": "00036-2f825cfd-4673-4ad8-a652-480885ed922e",
    "deepnote_to_be_reexecuted": false,
    "source_hash": "6cde14a7",
    "execution_start": 1639232536681,
    "execution_millis": 3,
    "deepnote_cell_type": "code"
   },
   "source": "from collections import Counter\n\ndef getMostFrequentWord(df):\n    most_freq = Counter(\" \".join(df[\"tweet\"]).split()).most_common(30)\n\n    most_freq_filtered = {}\n    for i in most_freq:\n        if(i[0] == 'user' or i[0] == 'url' or i[0] == 'rt'):\n            continue\n        else:\n            most_freq_filtered[i[0]] = i[1]\n            if(len(most_freq_filtered) == 20): # ambil 20 kata paling banyak muncul\n                break\n\n    return most_freq_filtered",
   "execution_count": 9,
   "outputs": []
  },
  {
   "cell_type": "code",
   "metadata": {
    "tags": [],
    "cell_id": "00037-55320c24-d173-49d4-ad44-7f575f3d454e",
    "deepnote_to_be_reexecuted": false,
    "source_hash": "ccba58b9",
    "execution_start": 1639232536691,
    "execution_millis": 7,
    "deepnote_output_heights": [
     386
    ],
    "deepnote_cell_type": "code"
   },
   "source": "most_freq = getMostFrequentWord(df)\nmost_freq",
   "execution_count": 10,
   "outputs": [
    {
     "output_type": "execute_result",
     "execution_count": 10,
     "data": {
      "text/plain": "{'windows': 104,\n '11': 92,\n 'to': 57,\n 'and': 39,\n 'the': 39,\n 'is': 29,\n '1': 25,\n 'a': 22,\n 'on': 22,\n 'it': 22,\n 'i': 20,\n 'microsoft': 17,\n 'you': 16,\n 'like': 16,\n 'games': 15,\n 'with': 15,\n 'so': 15,\n 'of': 15,\n 'google': 15,\n 'play': 14}"
     },
     "metadata": {}
    }
   ]
  },
  {
   "cell_type": "markdown",
   "source": "# 8. Dashboard",
   "metadata": {
    "tags": [],
    "cell_id": "00038-7305b9a8-ba2d-4f38-ba91-77e9b9c17ca4",
    "deepnote_cell_type": "markdown"
   }
  },
  {
   "cell_type": "markdown",
   "source": "Rencana data yang akan ditampilkan:\n\n1. Identifikasi perspektif pengguna twitter terhadap kata kunci\n2. Kata yang sering muncul berdasarkan kata kunci",
   "metadata": {
    "tags": [],
    "cell_id": "00039-96c8b58a-9395-46d9-8817-b6d7ac07c999",
    "deepnote_cell_type": "markdown"
   }
  },
  {
   "cell_type": "code",
   "metadata": {
    "tags": [],
    "cell_id": "00038-80acce21-c45c-4caf-82b4-d154ad073121",
    "deepnote_to_be_reexecuted": false,
    "source_hash": "1c72273f",
    "execution_start": 1639232536704,
    "execution_millis": 680,
    "deepnote_output_heights": [
     530
    ],
    "deepnote_cell_type": "code"
   },
   "source": "f, axes = plt.subplots(1, 2, figsize = (15, 7))\n# sns.set_style(\"white\")\ncolors = sns.color_palette('pastel')[0:5]\n# colors = sns.color_palette('bright')[0:5]\nf.suptitle(\"{} Twitter Topic Analysis\".format(TOPIC), fontsize=20)\nf.tight_layout(pad=3.0)\n\n# figure 1\nax1 = plt.subplot2grid((1,2),(0,0))\nax1.title.set_text(\"{} Tweet Sentiment\".format(TOPIC))\nfig1 = plt.pie(df.groupby(\"TextBlob_Analysis\").size(), labels = df.groupby(\"TextBlob_Analysis\").size().index, colors = colors, autopct='%.0f%%')\n\n# figure 2\nax2 = plt.subplot2grid((1,2),(0,1))\nax2.title.set_text(\"{} Tweet Most Common Words\".format(TOPIC))\nfig2 = sns.barplot(x=list(most_freq.keys()), y=list(most_freq.values()))\nfig2.set(xlabel='Most Common Words', ylabel='Frequency')\nfor item in fig2.get_xticklabels():\n    item.set_rotation(90)",
   "execution_count": 11,
   "outputs": [
    {
     "data": {
      "text/plain": "<Figure size 1080x504 with 2 Axes>",
      "image/png": "[encoded data removed]"
     },
     "metadata": {
      "needs_background": "light",
      "image/png": {
       "width": 958,
       "height": 528
      }
     },
     "output_type": "display_data"
    }
   ]
  },
  {
   "cell_type": "markdown",
   "source": "<a style='text-decoration:none;line-height:16px;display:flex;color:#5B5B62;padding:10px;justify-content:end;' href='https://deepnote.com?utm_source=created-in-deepnote-cell&projectId=b8e11c0c-7fdf-4dfd-b1a7-95ec2bc1e25d' target=\"_blank\">\n<img alt='Created in deepnote.com' style='display:inline;max-height:16px;margin:0px;margin-right:7.5px;' src='data:image/svg+xml;base64,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' > </img>\nCreated in <span style='font-weight:600;margin-left:4px;'>Deepnote</span></a>",
   "metadata": {
    "tags": [],
    "created_in_deepnote_cell": true,
    "deepnote_cell_type": "markdown"
   }
  }
 ],
 "nbformat": 4,
 "nbformat_minor": 2,
 "metadata": {
  "orig_nbformat": 2,
  "deepnote": {
   "is_reactive": false
  },
  "deepnote_notebook_id": "696cde36-f9ff-464d-aad2-67a3fa9c156a",
  "deepnote_execution_queue": []
 }
}